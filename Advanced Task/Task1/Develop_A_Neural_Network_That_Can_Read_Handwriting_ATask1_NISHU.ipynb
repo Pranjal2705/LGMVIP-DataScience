{
  "cells": [
    {
      "cell_type": "markdown",
      "id": "094af54e",
      "metadata": {
        "id": "094af54e"
      },
      "source": [
        "#LGMVIP Data Science\n",
        "Advanced Level Task 1 : Develop A Neural Network That Can Read Handwriting\n",
        "\n",
        "Name : Pranjal Yogesh Nankar\n",
        "\n",
        "Dataset link:https://en.wikipedia.org/wiki/MNIST_database"
      ]
    },
    {
      "cell_type": "markdown",
      "id": "4f5eb02d",
      "metadata": {
        "id": "4f5eb02d"
      },
      "source": [
        "## Importing Libraries"
      ]
    },
    {
      "cell_type": "code",
      "execution_count": null,
      "id": "a8fc8396",
      "metadata": {
        "id": "a8fc8396"
      },
      "outputs": [],
      "source": [
        "#Importing packages\n",
        "import tensorflow as tf\n",
        "import numpy as np\n",
        "from matplotlib import pyplot as plt\n",
        "import seaborn as sns"
      ]
    },
    {
      "cell_type": "markdown",
      "id": "7b467aee",
      "metadata": {
        "id": "7b467aee"
      },
      "source": [
        "## Loading dataset"
      ]
    },
    {
      "cell_type": "code",
      "execution_count": null,
      "id": "e1ea863f",
      "metadata": {
        "colab": {
          "base_uri": "https://localhost:8080/"
        },
        "id": "e1ea863f",
        "outputId": "13d17967-a5f3-48cf-8256-9921fa700040"
      },
      "outputs": [
        {
          "output_type": "stream",
          "name": "stdout",
          "text": [
            "Downloading data from https://storage.googleapis.com/tensorflow/tf-keras-datasets/mnist.npz\n",
            "11493376/11490434 [==============================] - 0s 0us/step\n",
            "11501568/11490434 [==============================] - 0s 0us/step\n"
          ]
        }
      ],
      "source": [
        "#loading dataset\n",
        "(x_train,y_train),(x_test,y_test)=tf.keras.datasets.mnist.load_data()"
      ]
    },
    {
      "cell_type": "markdown",
      "id": "cbd19e7b",
      "metadata": {
        "id": "cbd19e7b"
      },
      "source": [
        "## Plotting count plot"
      ]
    },
    {
      "cell_type": "code",
      "execution_count": null,
      "id": "e14fdc71",
      "metadata": {
        "colab": {
          "base_uri": "https://localhost:8080/",
          "height": 555
        },
        "id": "e14fdc71",
        "outputId": "73f17d4c-f1cb-4c87-f907-0a6f46f5f087"
      },
      "outputs": [
        {
          "output_type": "stream",
          "name": "stderr",
          "text": [
            "/usr/local/lib/python3.7/dist-packages/seaborn/_decorators.py:43: FutureWarning: Pass the following variable as a keyword arg: x. From version 0.12, the only valid positional argument will be `data`, and passing other arguments without an explicit keyword will result in an error or misinterpretation.\n",
            "  FutureWarning\n"
          ]
        },
        {
          "output_type": "execute_result",
          "data": {
            "text/plain": [
              "<matplotlib.axes._subplots.AxesSubplot at 0x7ff542562690>"
            ]
          },
          "metadata": {},
          "execution_count": 3
        },
        {
          "output_type": "display_data",
          "data": {
            "text/plain": [
              "<Figure size 720x576 with 1 Axes>"
            ],
            "image/png": "[encoded data removed]"
          },
          "metadata": {
            "needs_background": "light"
          }
        }
      ],
      "source": [
        "plt.figure(figsize = (10,8))\n",
        "sns.countplot(y_train)"
      ]
    },
    {
      "cell_type": "markdown",
      "id": "3b6b4200",
      "metadata": {
        "id": "3b6b4200"
      },
      "source": [
        "## Displaying some images"
      ]
    },
    {
      "cell_type": "code",
      "execution_count": null,
      "id": "effc743d",
      "metadata": {
        "colab": {
          "base_uri": "https://localhost:8080/",
          "height": 147
        },
        "id": "effc743d",
        "outputId": "d10359ed-de11-4bfc-eb2e-903927f8139c"
      },
      "outputs": [
        {
          "output_type": "display_data",
          "data": {
            "text/plain": [
              "<Figure size 720x288 with 5 Axes>"
            ],
            "image/png": "[encoded data removed]"
          },
          "metadata": {
            "needs_background": "light"
          }
        }
      ],
      "source": [
        "#Dataset properties\n",
        "# Display some images\n",
        "fig, axes = plt.subplots(ncols=5, sharex=False, \n",
        "    sharey=True, figsize=(10, 4))\n",
        "for i in range(5):\n",
        "    axes[i].set_title(y_train[i])\n",
        "    axes[i].imshow(x_train[i], cmap='gray_r')\n",
        "    axes[i].get_xaxis().set_visible(False)\n",
        "    axes[i].get_yaxis().set_visible(False)\n",
        "plt.show()"
      ]
    },
    {
      "cell_type": "markdown",
      "id": "397b63d9",
      "metadata": {
        "id": "397b63d9"
      },
      "source": [
        "### Pre-processing the data"
      ]
    },
    {
      "cell_type": "code",
      "execution_count": null,
      "id": "31f5f263",
      "metadata": {
        "colab": {
          "base_uri": "https://localhost:8080/"
        },
        "id": "31f5f263",
        "outputId": "b0492cf6-ab9c-4359-df21-1b34c5ac1abd"
      },
      "outputs": [
        {
          "output_type": "stream",
          "name": "stdout",
          "text": [
            "Training images shape :  (60000, 28, 28)\n",
            "Testing images shape :  (10000, 28, 28)\n"
          ]
        }
      ],
      "source": [
        "# Pre-processing the data\n",
        "print('Training images shape : ',x_train.shape)\n",
        "print('Testing images shape : ',x_test.shape)"
      ]
    },
    {
      "cell_type": "code",
      "execution_count": null,
      "id": "37e1cf3e",
      "metadata": {
        "id": "37e1cf3e"
      },
      "outputs": [],
      "source": [
        "x_train = x_train.reshape(x_train.shape[0], 28, 28, 1)\n",
        "x_test = x_test.reshape(x_test.shape[0], 28, 28, 1)\n",
        "input_shape = (28, 28, 1)\n"
      ]
    },
    {
      "cell_type": "code",
      "execution_count": null,
      "id": "f163729a",
      "metadata": {
        "id": "f163729a"
      },
      "outputs": [],
      "source": [
        "#applying normalization\n",
        "x_train=x_train/255.0\n",
        "x_testg=x_test/255.0\n",
        "num_classes = 10"
      ]
    },
    {
      "cell_type": "markdown",
      "id": "969c4166",
      "metadata": {
        "id": "969c4166"
      },
      "source": [
        "## Creating the model\n",
        "### Model Architecture\n",
        "We will have to first build the model architecture and define it based on our dataset. We are going to add the following layers:\n",
        "\n",
        "1. Conv2D - for the convolution layers\n",
        "2. Dropout - to prevent overfitting\n",
        "3. Dense - a fully connected layer\n",
        "4. Softmax activation - This is used to convert all predictions into probability\n",
        "The model architecture can be tuned to get optimal performance\n",
        "\n",
        "so i am goimg to create a model with\n",
        "\n",
        "#### CNN + Three layers + relu + (3,3) kernel_size + Dropout rate (0.3)"
      ]
    },
    {
      "cell_type": "code",
      "execution_count": null,
      "id": "924bd97a",
      "metadata": {
        "id": "924bd97a"
      },
      "outputs": [],
      "source": [
        "from tensorflow.keras.models import Sequential\n",
        "from tensorflow.keras.layers import Dense, Dropout, Flatten,Activation\n",
        "from tensorflow.keras.layers import Conv2D,MaxPooling2D\n",
        "from tensorflow.keras.layers import BatchNormalization"
      ]
    },
    {
      "cell_type": "code",
      "execution_count": null,
      "id": "31b9606c",
      "metadata": {
        "id": "31b9606c"
      },
      "outputs": [],
      "source": [
        "model = Sequential()\n",
        "\n",
        "model.add(Conv2D(128, kernel_size=(3, 3),\n",
        "                 activation=tf.nn.relu,\n",
        "                 input_shape=input_shape))\n",
        "model.add(BatchNormalization())\n",
        "model.add(Dropout(0.3))\n",
        "\n",
        "model.add(Conv2D(64, (3, 3), activation=tf.nn.relu))\n",
        "model.add(BatchNormalization())\n",
        "model.add(Dropout(0.3))\n",
        "\n",
        "model.add(Conv2D(32, (3, 3), activation=tf.nn.relu))\n",
        "model.add(BatchNormalization())\n",
        "model.add(Dropout(0.3))\n",
        "\n",
        "\n",
        "model.add(MaxPooling2D(pool_size=(2, 2)))\n",
        "model.add(Dropout(0.3))\n",
        "model.add(Flatten())\n",
        "model.add(Dense(128, activation=tf.nn.relu))\n",
        "model.add(Dropout(0.3))\n",
        "model.add(Dense(num_classes, activation=tf.nn.softmax))"
      ]
    },
    {
      "cell_type": "code",
      "execution_count": null,
      "id": "d899a8b7",
      "metadata": {
        "colab": {
          "base_uri": "https://localhost:8080/"
        },
        "id": "d899a8b7",
        "outputId": "640ff1b3-2458-46ab-f9cd-d29842cc634e"
      },
      "outputs": [
        {
          "output_type": "stream",
          "name": "stdout",
          "text": [
            "Model: \"sequential\"\n",
            "_________________________________________________________________\n",
            " Layer (type)                Output Shape              Param #   \n",
            "=================================================================\n",
            " conv2d (Conv2D)             (None, 26, 26, 128)       1280      \n",
            "                                                                 \n",
            " batch_normalization (BatchN  (None, 26, 26, 128)      512       \n",
            " ormalization)                                                   \n",
            "                                                                 \n",
            " dropout (Dropout)           (None, 26, 26, 128)       0         \n",
            "                                                                 \n",
            " conv2d_1 (Conv2D)           (None, 24, 24, 64)        73792     \n",
            "                                                                 \n",
            " batch_normalization_1 (Batc  (None, 24, 24, 64)       256       \n",
            " hNormalization)                                                 \n",
            "                                                                 \n",
            " dropout_1 (Dropout)         (None, 24, 24, 64)        0         \n",
            "                                                                 \n",
            " conv2d_2 (Conv2D)           (None, 22, 22, 32)        18464     \n",
            "                                                                 \n",
            " batch_normalization_2 (Batc  (None, 22, 22, 32)       128       \n",
            " hNormalization)                                                 \n",
            "                                                                 \n",
            " dropout_2 (Dropout)         (None, 22, 22, 32)        0         \n",
            "                                                                 \n",
            " max_pooling2d (MaxPooling2D  (None, 11, 11, 32)       0         \n",
            " )                                                               \n",
            "                                                                 \n",
            " dropout_3 (Dropout)         (None, 11, 11, 32)        0         \n",
            "                                                                 \n",
            " flatten (Flatten)           (None, 3872)              0         \n",
            "                                                                 \n",
            " dense (Dense)               (None, 128)               495744    \n",
            "                                                                 \n",
            " dropout_4 (Dropout)         (None, 128)               0         \n",
            "                                                                 \n",
            " dense_1 (Dense)             (None, 10)                1290      \n",
            "                                                                 \n",
            "=================================================================\n",
            "Total params: 591,466\n",
            "Trainable params: 591,018\n",
            "Non-trainable params: 448\n",
            "_________________________________________________________________\n"
          ]
        }
      ],
      "source": [
        "model.summary()"
      ]
    },
    {
      "cell_type": "markdown",
      "id": "849533db",
      "metadata": {
        "id": "849533db"
      },
      "source": [
        "## Training the model"
      ]
    },
    {
      "cell_type": "code",
      "execution_count": null,
      "id": "32a2e65a",
      "metadata": {
        "colab": {
          "base_uri": "https://localhost:8080/"
        },
        "id": "32a2e65a",
        "outputId": "0e697f1a-d016-4727-dd1a-a0d5f059570b"
      },
      "outputs": [
        {
          "output_type": "stream",
          "name": "stdout",
          "text": [
            "Epoch 1/10\n",
            "1688/1688 [==============================] - 414s 245ms/step - loss: 0.2636 - accuracy: 0.9239 - val_loss: 0.0840 - val_accuracy: 0.9795\n",
            "Epoch 2/10\n",
            "1688/1688 [==============================] - 404s 239ms/step - loss: 0.1089 - accuracy: 0.9685 - val_loss: 0.0990 - val_accuracy: 0.9797\n",
            "Epoch 3/10\n",
            "1688/1688 [==============================] - 411s 244ms/step - loss: 0.0875 - accuracy: 0.9747 - val_loss: 0.1419 - val_accuracy: 0.9787\n",
            "Epoch 4/10\n",
            "1688/1688 [==============================] - 406s 240ms/step - loss: 0.0794 - accuracy: 0.9775 - val_loss: 0.1029 - val_accuracy: 0.9823\n",
            "Epoch 5/10\n",
            "1688/1688 [==============================] - 406s 240ms/step - loss: 0.0671 - accuracy: 0.9798 - val_loss: 0.1257 - val_accuracy: 0.9830\n",
            "Epoch 6/10\n",
            "1688/1688 [==============================] - 404s 240ms/step - loss: 0.0575 - accuracy: 0.9829 - val_loss: 0.2079 - val_accuracy: 0.9758\n",
            "Epoch 7/10\n",
            "1688/1688 [==============================] - 403s 239ms/step - loss: 0.0523 - accuracy: 0.9843 - val_loss: 0.2171 - val_accuracy: 0.9743\n",
            "Epoch 8/10\n",
            "1688/1688 [==============================] - 401s 238ms/step - loss: 0.0488 - accuracy: 0.9858 - val_loss: 0.2047 - val_accuracy: 0.9762\n",
            "Epoch 9/10\n",
            "1688/1688 [==============================] - 401s 238ms/step - loss: 0.0425 - accuracy: 0.9866 - val_loss: 0.1061 - val_accuracy: 0.9848\n",
            "Epoch 10/10\n",
            "1688/1688 [==============================] - 401s 238ms/step - loss: 0.0409 - accuracy: 0.9879 - val_loss: 0.2523 - val_accuracy: 0.9747\n"
          ]
        }
      ],
      "source": [
        "# Train the model\n",
        "model.compile(optimizer='adam', \n",
        "              loss='sparse_categorical_crossentropy', \n",
        "              metrics=['accuracy'])\n",
        "history=model.fit(x=x_train,\n",
        "                  y=y_train,\n",
        "                  validation_split=0.1,\n",
        "                  epochs=10)\n"
      ]
    },
    {
      "cell_type": "markdown",
      "id": "1d19d065",
      "metadata": {
        "id": "1d19d065"
      },
      "source": [
        "### Saving and loading the model"
      ]
    },
    {
      "cell_type": "code",
      "execution_count": null,
      "id": "c8d8c6d4",
      "metadata": {
        "id": "c8d8c6d4"
      },
      "outputs": [],
      "source": [
        "model.save('MNproject.h5')"
      ]
    },
    {
      "cell_type": "code",
      "execution_count": null,
      "id": "210312ea",
      "metadata": {
        "id": "210312ea"
      },
      "outputs": [],
      "source": [
        "from tensorflow.keras.models import load_model\n",
        "model = load_model('MNproject.h5')"
      ]
    },
    {
      "cell_type": "markdown",
      "id": "57c4b31f",
      "metadata": {
        "id": "57c4b31f"
      },
      "source": [
        "### Evaluating the model"
      ]
    },
    {
      "cell_type": "code",
      "execution_count": null,
      "id": "fadefe61",
      "metadata": {
        "colab": {
          "base_uri": "https://localhost:8080/"
        },
        "id": "fadefe61",
        "outputId": "47929d02-d210-41d9-8f62-ea02b2f3bff8"
      },
      "outputs": [
        {
          "output_type": "stream",
          "name": "stdout",
          "text": [
            "313/313 [==============================] - 16s 49ms/step - loss: 2.5701 - accuracy: 0.9890\n",
            "Test Loss 2.5701003074645996\n",
            "Test Accuracy 0.9890000224113464\n"
          ]
        }
      ],
      "source": [
        "# Evaluate the model\n",
        "loss_and_acc=model.evaluate(x_test,y_test)\n",
        "print(\"Test Loss\", loss_and_acc[0])\n",
        "print(\"Test Accuracy\", loss_and_acc[1])"
      ]
    },
    {
      "cell_type": "markdown",
      "id": "60007fd4",
      "metadata": {
        "id": "60007fd4"
      },
      "source": [
        "## Plotting Training & Validation plots"
      ]
    },
    {
      "cell_type": "code",
      "execution_count": null,
      "id": "d1114a56",
      "metadata": {
        "colab": {
          "base_uri": "https://localhost:8080/",
          "height": 417
        },
        "id": "d1114a56",
        "outputId": "1c78061a-7565-41a9-88cc-3b756f1196f0"
      },
      "outputs": [
        {
          "output_type": "display_data",
          "data": {
            "text/plain": [
              "<Figure size 1440x432 with 2 Axes>"
            ],
            "image/png": "[encoded data removed]"
          },
          "metadata": {
            "needs_background": "light"
          }
        }
      ],
      "source": [
        "acc = history.history['accuracy']\n",
        "val_acc = history.history['val_accuracy']\n",
        "loss = history.history['loss']\n",
        "val_loss = history.history['val_loss']\n",
        "epochs = range(len(acc))\n",
        "\n",
        "fig, ax = plt.subplots(nrows=1, ncols=2, figsize=(20, 6))\n",
        "ax[0].plot(epochs, acc, 'y', label='Training accuracy')\n",
        "ax[0].plot(epochs, val_acc, 'g', label='Validation accuracy')\n",
        "ax[0].legend(loc=0)\n",
        "ax[1].plot(epochs, loss, 'y', label='Training loss')\n",
        "ax[1].plot(epochs, val_loss, 'g', label='Validation loss')\n",
        "ax[1].legend(loc=0)\n",
        "\n",
        "plt.suptitle('Training and validation')\n",
        "plt.show()"
      ]
    },
    {
      "cell_type": "code",
      "execution_count": null,
      "id": "7fca05a0",
      "metadata": {
        "colab": {
          "base_uri": "https://localhost:8080/"
        },
        "id": "7fca05a0",
        "outputId": "b5caf317-6035-4076-e825-c565956f34c7"
      },
      "outputs": [
        {
          "output_type": "execute_result",
          "data": {
            "text/plain": [
              "<tf.Tensor: shape=(10, 10), dtype=int32, numpy=\n",
              "array([[ 967,    0,    5,    0,    4,    0,    2,    1,    1,    0],\n",
              "       [   0, 1132,    1,    0,    0,    0,    0,    2,    0,    0],\n",
              "       [   1,    6, 1021,    0,    0,    0,    0,    3,    1,    0],\n",
              "       [   0,    0,    5, 1002,    0,    1,    0,    1,    1,    0],\n",
              "       [   0,    0,    0,    0,  980,    0,    0,    0,    1,    1],\n",
              "       [   0,    0,    1,   13,    0,  868,    5,    0,    2,    3],\n",
              "       [   1,    3,    1,    0,    1,    3,  949,    0,    0,    0],\n",
              "       [   0,    2,    5,    0,    0,    0,    0, 1018,    2,    1],\n",
              "       [   1,    0,    2,    0,    1,    0,    0,    2,  965,    3],\n",
              "       [   0,    1,    1,    1,   10,    0,    0,    3,    5,  988]],\n",
              "      dtype=int32)>"
            ]
          },
          "metadata": {},
          "execution_count": 16
        }
      ],
      "source": [
        "# Confusion Matrix\n",
        "y_predicted = model.predict(x_test)\n",
        "y_predicted_labels = [np.argmax(i) for i in y_predicted]\n",
        "cm = tf.math.confusion_matrix(labels=y_test,predictions=y_predicted_labels)\n",
        "cm"
      ]
    },
    {
      "cell_type": "markdown",
      "id": "910483c6",
      "metadata": {
        "id": "910483c6"
      },
      "source": [
        "### Plotting heat map"
      ]
    },
    {
      "cell_type": "code",
      "execution_count": null,
      "id": "ba7577e0",
      "metadata": {
        "colab": {
          "base_uri": "https://localhost:8080/",
          "height": 459
        },
        "id": "ba7577e0",
        "outputId": "e3930b8a-898d-4120-c745-4418b8402b88"
      },
      "outputs": [
        {
          "output_type": "execute_result",
          "data": {
            "text/plain": [
              "Text(69.0, 0.5, 'Truth')"
            ]
          },
          "metadata": {},
          "execution_count": 17
        },
        {
          "output_type": "display_data",
          "data": {
            "text/plain": [
              "<Figure size 720x504 with 2 Axes>"
            ],
            "image/png": "[encoded data removed]"
          },
          "metadata": {
            "needs_background": "light"
          }
        }
      ],
      "source": [
        "plt.figure(figsize = (10,7))\n",
        "sns.heatmap(cm, annot=True, fmt='d', cmap = 'coolwarm')\n",
        "plt.xlabel('Predicted')\n",
        "plt.ylabel('Truth')"
      ]
    },
    {
      "cell_type": "code",
      "execution_count": null,
      "id": "9cf34d9f",
      "metadata": {
        "id": "9cf34d9f"
      },
      "outputs": [],
      "source": []
    }
  ],
  "metadata": {
    "kernelspec": {
      "display_name": "Python 3 (ipykernel)",
      "language": "python",
      "name": "python3"
    },
    "language_info": {
      "codemirror_mode": {
        "name": "ipython",
        "version": 3
      },
      "file_extension": ".py",
      "mimetype": "text/x-python",
      "name": "python",
      "nbconvert_exporter": "python",
      "pygments_lexer": "ipython3",
      "version": "3.8.5"
    },
    "colab": {
      "name": "Develop A Neural Network That Can Read Handwriting ATask1: -NISHU.ipynb",
      "provenance": [],
      "collapsed_sections": []
    }
  },
  "nbformat": 4,
  "nbformat_minor": 5
}