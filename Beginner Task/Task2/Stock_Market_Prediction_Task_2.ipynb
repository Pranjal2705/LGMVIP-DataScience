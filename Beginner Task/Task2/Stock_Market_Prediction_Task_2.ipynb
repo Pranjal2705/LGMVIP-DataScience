{
  "cells": [
    {
      "cell_type": "markdown",
      "metadata": {
        "id": "E_qn2fvMm-IQ"
      },
      "source": [
        "# LGMVIP Data Science \n",
        "\n",
        " Beginner Level Task 2 : Stock Market Prediction and Forecasting Using Stacked LSTM\n",
        "\n",
        "Name : Pranjal Yogesh Nankar\n",
        "\n",
        "Dataset link:https://raw.githubusercontent.com/mwitiderrick/stockprice/master/NSE-TATAGLOBAL.csv\n",
        "\n",
        "\n"
      ]
    },
    {
      "cell_type": "code",
      "execution_count": null,
      "metadata": {
        "id": "z4IUYt_gm-IV"
      },
      "outputs": [],
      "source": [
        "#Import necessary Libraries\n",
        "import pandas as pd\n",
        "import numpy as np\n",
        "import math\n",
        "import matplotlib.pyplot as plt\n",
        "from sklearn.preprocessing import MinMaxScaler\n",
        "from sklearn.metrics import mean_squared_error\n",
        "import tensorflow as tf\n",
        "from tensorflow.python.keras.models import Sequential\n",
        "from tensorflow.python.keras.layers import Dense\n",
        "from tensorflow.python.keras.layers import LSTM\n",
        "%matplotlib inline"
      ]
    },
    {
      "cell_type": "code",
      "execution_count": null,
      "metadata": {
        "colab": {
          "base_uri": "https://localhost:8080/",
          "height": 206
        },
        "id": "hznXy-ZQm-IW",
        "outputId": "b38ea5fc-adcc-48fc-f5de-3dd14cf2606c"
      },
      "outputs": [
        {
          "output_type": "execute_result",
          "data": {
            "text/plain": [
              "         Date        Open        High         Low       Close   Adj Close  \\\n",
              "0  2015-06-08  453.399994  455.000000  441.549988  442.725006  425.550629   \n",
              "1  2015-06-09  441.774994  445.325012  438.674988  441.850006  424.709564   \n",
              "2  2015-06-10  443.000000  454.950012  442.500000  452.899994  435.330933   \n",
              "3  2015-06-11  453.000000  454.750000  436.825012  438.575012  421.561676   \n",
              "4  2015-06-12  439.500000  446.350006  439.125000  444.924988  427.665283   \n",
              "\n",
              "      Volume  \n",
              "0  4958862.0  \n",
              "1  4184606.0  \n",
              "2  6176034.0  \n",
              "3  6709574.0  \n",
              "4  9849112.0  "
            ],
            "text/html": [
              "\n",
              "  <div id=\"df-99144965-91fc-4f83-a0d3-74fa4dfa547b\">\n",
              "    <div class=\"colab-df-container\">\n",
              "      <div>\n",
              "<style scoped>\n",
              "    .dataframe tbody tr th:only-of-type {\n",
              "        vertical-align: middle;\n",
              "    }\n",
              "\n",
              "    .dataframe tbody tr th {\n",
              "        vertical-align: top;\n",
              "    }\n",
              "\n",
              "    .dataframe thead th {\n",
              "        text-align: right;\n",
              "    }\n",
              "</style>\n",
              "<table border=\"1\" class=\"dataframe\">\n",
              "  <thead>\n",
              "    <tr style=\"text-align: right;\">\n",
              "      <th></th>\n",
              "      <th>Date</th>\n",
              "      <th>Open</th>\n",
              "      <th>High</th>\n",
              "      <th>Low</th>\n",
              "      <th>Close</th>\n",
              "      <th>Adj Close</th>\n",
              "      <th>Volume</th>\n",
              "    </tr>\n",
              "  </thead>\n",
              "  <tbody>\n",
              "    <tr>\n",
              "      <th>0</th>\n",
              "      <td>2015-06-08</td>\n",
              "      <td>453.399994</td>\n",
              "      <td>455.000000</td>\n",
              "      <td>441.549988</td>\n",
              "      <td>442.725006</td>\n",
              "      <td>425.550629</td>\n",
              "      <td>4958862.0</td>\n",
              "    </tr>\n",
              "    <tr>\n",
              "      <th>1</th>\n",
              "      <td>2015-06-09</td>\n",
              "      <td>441.774994</td>\n",
              "      <td>445.325012</td>\n",
              "      <td>438.674988</td>\n",
              "      <td>441.850006</td>\n",
              "      <td>424.709564</td>\n",
              "      <td>4184606.0</td>\n",
              "    </tr>\n",
              "    <tr>\n",
              "      <th>2</th>\n",
              "      <td>2015-06-10</td>\n",
              "      <td>443.000000</td>\n",
              "      <td>454.950012</td>\n",
              "      <td>442.500000</td>\n",
              "      <td>452.899994</td>\n",
              "      <td>435.330933</td>\n",
              "      <td>6176034.0</td>\n",
              "    </tr>\n",
              "    <tr>\n",
              "      <th>3</th>\n",
              "      <td>2015-06-11</td>\n",
              "      <td>453.000000</td>\n",
              "      <td>454.750000</td>\n",
              "      <td>436.825012</td>\n",
              "      <td>438.575012</td>\n",
              "      <td>421.561676</td>\n",
              "      <td>6709574.0</td>\n",
              "    </tr>\n",
              "    <tr>\n",
              "      <th>4</th>\n",
              "      <td>2015-06-12</td>\n",
              "      <td>439.500000</td>\n",
              "      <td>446.350006</td>\n",
              "      <td>439.125000</td>\n",
              "      <td>444.924988</td>\n",
              "      <td>427.665283</td>\n",
              "      <td>9849112.0</td>\n",
              "    </tr>\n",
              "  </tbody>\n",
              "</table>\n",
              "</div>\n",
              "      <button class=\"colab-df-convert\" onclick=\"convertToInteractive('df-99144965-91fc-4f83-a0d3-74fa4dfa547b')\"\n",
              "              title=\"Convert this dataframe to an interactive table.\"\n",
              "              style=\"display:none;\">\n",
              "        \n",
              "  <svg xmlns=\"http://www.w3.org/2000/svg\" height=\"24px\"viewBox=\"0 0 24 24\"\n",
              "       width=\"24px\">\n",
              "    <path d=\"M0 0h24v24H0V0z\" fill=\"none\"/>\n",
              "    <path d=\"M18.56 5.44l.94 2.06.94-2.06 2.06-.94-2.06-.94-.94-2.06-.94 2.06-2.06.94zm-11 1L8.5 8.5l.94-2.06 2.06-.94-2.06-.94L8.5 2.5l-.94 2.06-2.06.94zm10 10l.94 2.06.94-2.06 2.06-.94-2.06-.94-.94-2.06-.94 2.06-2.06.94z\"/><path d=\"M17.41 7.96l-1.37-1.37c-.4-.4-.92-.59-1.43-.59-.52 0-1.04.2-1.43.59L10.3 9.45l-7.72 7.72c-.78.78-.78 2.05 0 2.83L4 21.41c.39.39.9.59 1.41.59.51 0 1.02-.2 1.41-.59l7.78-7.78 2.81-2.81c.8-.78.8-2.07 0-2.86zM5.41 20L4 18.59l7.72-7.72 1.47 1.35L5.41 20z\"/>\n",
              "  </svg>\n",
              "      </button>\n",
              "      \n",
              "  <style>\n",
              "    .colab-df-container {\n",
              "      display:flex;\n",
              "      flex-wrap:wrap;\n",
              "      gap: 12px;\n",
              "    }\n",
              "\n",
              "    .colab-df-convert {\n",
              "      background-color: #E8F0FE;\n",
              "      border: none;\n",
              "      border-radius: 50%;\n",
              "      cursor: pointer;\n",
              "      display: none;\n",
              "      fill: #1967D2;\n",
              "      height: 32px;\n",
              "      padding: 0 0 0 0;\n",
              "      width: 32px;\n",
              "    }\n",
              "\n",
              "    .colab-df-convert:hover {\n",
              "      background-color: #E2EBFA;\n",
              "      box-shadow: 0px 1px 2px rgba(60, 64, 67, 0.3), 0px 1px 3px 1px rgba(60, 64, 67, 0.15);\n",
              "      fill: #174EA6;\n",
              "    }\n",
              "\n",
              "    [theme=dark] .colab-df-convert {\n",
              "      background-color: #3B4455;\n",
              "      fill: #D2E3FC;\n",
              "    }\n",
              "\n",
              "    [theme=dark] .colab-df-convert:hover {\n",
              "      background-color: #434B5C;\n",
              "      box-shadow: 0px 1px 3px 1px rgba(0, 0, 0, 0.15);\n",
              "      filter: drop-shadow(0px 1px 2px rgba(0, 0, 0, 0.3));\n",
              "      fill: #FFFFFF;\n",
              "    }\n",
              "  </style>\n",
              "\n",
              "      <script>\n",
              "        const buttonEl =\n",
              "          document.querySelector('#df-99144965-91fc-4f83-a0d3-74fa4dfa547b button.colab-df-convert');\n",
              "        buttonEl.style.display =\n",
              "          google.colab.kernel.accessAllowed ? 'block' : 'none';\n",
              "\n",
              "        async function convertToInteractive(key) {\n",
              "          const element = document.querySelector('#df-99144965-91fc-4f83-a0d3-74fa4dfa547b');\n",
              "          const dataTable =\n",
              "            await google.colab.kernel.invokeFunction('convertToInteractive',\n",
              "                                                     [key], {});\n",
              "          if (!dataTable) return;\n",
              "\n",
              "          const docLinkHtml = 'Like what you see? Visit the ' +\n",
              "            '<a target=\"_blank\" href=https://colab.research.google.com/notebooks/data_table.ipynb>data table notebook</a>'\n",
              "            + ' to learn more about interactive tables.';\n",
              "          element.innerHTML = '';\n",
              "          dataTable['output_type'] = 'display_data';\n",
              "          await google.colab.output.renderOutput(dataTable, element);\n",
              "          const docLink = document.createElement('div');\n",
              "          docLink.innerHTML = docLinkHtml;\n",
              "          element.appendChild(docLink);\n",
              "        }\n",
              "      </script>\n",
              "    </div>\n",
              "  </div>\n",
              "  "
            ]
          },
          "metadata": {},
          "execution_count": 8
        }
      ],
      "source": [
        "#Import the data and remove rows containing NAN values\n",
        "df = pd.read_csv('Reliance_Stock.csv')\n",
        "df = df.dropna()\n",
        "df.head()"
      ]
    },
    {
      "cell_type": "code",
      "execution_count": null,
      "metadata": {
        "id": "Mx8DLbiBm-IX",
        "colab": {
          "base_uri": "https://localhost:8080/",
          "height": 206
        },
        "outputId": "50f01cfe-43c4-48b0-f76d-27818c39c90b"
      },
      "outputs": [
        {
          "output_type": "execute_result",
          "data": {
            "text/plain": [
              "            Date    Open         High          Low        Close    Adj Close  \\\n",
              "1224  2020-06-01  1480.0  1538.349976  1475.949951  1520.349976  1520.349976   \n",
              "1225  2020-06-02  1526.0  1540.000000  1520.800049  1535.699951  1535.699951   \n",
              "1226  2020-06-03  1545.0  1560.000000  1533.349976  1541.650024  1541.650024   \n",
              "1227  2020-06-04  1544.0  1589.500000  1541.000000  1579.800049  1579.800049   \n",
              "1228  2020-06-05  1595.0  1618.000000  1573.699951  1581.699951  1581.699951   \n",
              "\n",
              "          Volume  \n",
              "1224  18434012.0  \n",
              "1225  10224049.0  \n",
              "1226  11713461.0  \n",
              "1227  15784379.0  \n",
              "1228  15246965.0  "
            ],
            "text/html": [
              "\n",
              "  <div id=\"df-3c9028d6-2aec-4915-b313-81f9013f9a54\">\n",
              "    <div class=\"colab-df-container\">\n",
              "      <div>\n",
              "<style scoped>\n",
              "    .dataframe tbody tr th:only-of-type {\n",
              "        vertical-align: middle;\n",
              "    }\n",
              "\n",
              "    .dataframe tbody tr th {\n",
              "        vertical-align: top;\n",
              "    }\n",
              "\n",
              "    .dataframe thead th {\n",
              "        text-align: right;\n",
              "    }\n",
              "</style>\n",
              "<table border=\"1\" class=\"dataframe\">\n",
              "  <thead>\n",
              "    <tr style=\"text-align: right;\">\n",
              "      <th></th>\n",
              "      <th>Date</th>\n",
              "      <th>Open</th>\n",
              "      <th>High</th>\n",
              "      <th>Low</th>\n",
              "      <th>Close</th>\n",
              "      <th>Adj Close</th>\n",
              "      <th>Volume</th>\n",
              "    </tr>\n",
              "  </thead>\n",
              "  <tbody>\n",
              "    <tr>\n",
              "      <th>1224</th>\n",
              "      <td>2020-06-01</td>\n",
              "      <td>1480.0</td>\n",
              "      <td>1538.349976</td>\n",
              "      <td>1475.949951</td>\n",
              "      <td>1520.349976</td>\n",
              "      <td>1520.349976</td>\n",
              "      <td>18434012.0</td>\n",
              "    </tr>\n",
              "    <tr>\n",
              "      <th>1225</th>\n",
              "      <td>2020-06-02</td>\n",
              "      <td>1526.0</td>\n",
              "      <td>1540.000000</td>\n",
              "      <td>1520.800049</td>\n",
              "      <td>1535.699951</td>\n",
              "      <td>1535.699951</td>\n",
              "      <td>10224049.0</td>\n",
              "    </tr>\n",
              "    <tr>\n",
              "      <th>1226</th>\n",
              "      <td>2020-06-03</td>\n",
              "      <td>1545.0</td>\n",
              "      <td>1560.000000</td>\n",
              "      <td>1533.349976</td>\n",
              "      <td>1541.650024</td>\n",
              "      <td>1541.650024</td>\n",
              "      <td>11713461.0</td>\n",
              "    </tr>\n",
              "    <tr>\n",
              "      <th>1227</th>\n",
              "      <td>2020-06-04</td>\n",
              "      <td>1544.0</td>\n",
              "      <td>1589.500000</td>\n",
              "      <td>1541.000000</td>\n",
              "      <td>1579.800049</td>\n",
              "      <td>1579.800049</td>\n",
              "      <td>15784379.0</td>\n",
              "    </tr>\n",
              "    <tr>\n",
              "      <th>1228</th>\n",
              "      <td>2020-06-05</td>\n",
              "      <td>1595.0</td>\n",
              "      <td>1618.000000</td>\n",
              "      <td>1573.699951</td>\n",
              "      <td>1581.699951</td>\n",
              "      <td>1581.699951</td>\n",
              "      <td>15246965.0</td>\n",
              "    </tr>\n",
              "  </tbody>\n",
              "</table>\n",
              "</div>\n",
              "      <button class=\"colab-df-convert\" onclick=\"convertToInteractive('df-3c9028d6-2aec-4915-b313-81f9013f9a54')\"\n",
              "              title=\"Convert this dataframe to an interactive table.\"\n",
              "              style=\"display:none;\">\n",
              "        \n",
              "  <svg xmlns=\"http://www.w3.org/2000/svg\" height=\"24px\"viewBox=\"0 0 24 24\"\n",
              "       width=\"24px\">\n",
              "    <path d=\"M0 0h24v24H0V0z\" fill=\"none\"/>\n",
              "    <path d=\"M18.56 5.44l.94 2.06.94-2.06 2.06-.94-2.06-.94-.94-2.06-.94 2.06-2.06.94zm-11 1L8.5 8.5l.94-2.06 2.06-.94-2.06-.94L8.5 2.5l-.94 2.06-2.06.94zm10 10l.94 2.06.94-2.06 2.06-.94-2.06-.94-.94-2.06-.94 2.06-2.06.94z\"/><path d=\"M17.41 7.96l-1.37-1.37c-.4-.4-.92-.59-1.43-.59-.52 0-1.04.2-1.43.59L10.3 9.45l-7.72 7.72c-.78.78-.78 2.05 0 2.83L4 21.41c.39.39.9.59 1.41.59.51 0 1.02-.2 1.41-.59l7.78-7.78 2.81-2.81c.8-.78.8-2.07 0-2.86zM5.41 20L4 18.59l7.72-7.72 1.47 1.35L5.41 20z\"/>\n",
              "  </svg>\n",
              "      </button>\n",
              "      \n",
              "  <style>\n",
              "    .colab-df-container {\n",
              "      display:flex;\n",
              "      flex-wrap:wrap;\n",
              "      gap: 12px;\n",
              "    }\n",
              "\n",
              "    .colab-df-convert {\n",
              "      background-color: #E8F0FE;\n",
              "      border: none;\n",
              "      border-radius: 50%;\n",
              "      cursor: pointer;\n",
              "      display: none;\n",
              "      fill: #1967D2;\n",
              "      height: 32px;\n",
              "      padding: 0 0 0 0;\n",
              "      width: 32px;\n",
              "    }\n",
              "\n",
              "    .colab-df-convert:hover {\n",
              "      background-color: #E2EBFA;\n",
              "      box-shadow: 0px 1px 2px rgba(60, 64, 67, 0.3), 0px 1px 3px 1px rgba(60, 64, 67, 0.15);\n",
              "      fill: #174EA6;\n",
              "    }\n",
              "\n",
              "    [theme=dark] .colab-df-convert {\n",
              "      background-color: #3B4455;\n",
              "      fill: #D2E3FC;\n",
              "    }\n",
              "\n",
              "    [theme=dark] .colab-df-convert:hover {\n",
              "      background-color: #434B5C;\n",
              "      box-shadow: 0px 1px 3px 1px rgba(0, 0, 0, 0.15);\n",
              "      filter: drop-shadow(0px 1px 2px rgba(0, 0, 0, 0.3));\n",
              "      fill: #FFFFFF;\n",
              "    }\n",
              "  </style>\n",
              "\n",
              "      <script>\n",
              "        const buttonEl =\n",
              "          document.querySelector('#df-3c9028d6-2aec-4915-b313-81f9013f9a54 button.colab-df-convert');\n",
              "        buttonEl.style.display =\n",
              "          google.colab.kernel.accessAllowed ? 'block' : 'none';\n",
              "\n",
              "        async function convertToInteractive(key) {\n",
              "          const element = document.querySelector('#df-3c9028d6-2aec-4915-b313-81f9013f9a54');\n",
              "          const dataTable =\n",
              "            await google.colab.kernel.invokeFunction('convertToInteractive',\n",
              "                                                     [key], {});\n",
              "          if (!dataTable) return;\n",
              "\n",
              "          const docLinkHtml = 'Like what you see? Visit the ' +\n",
              "            '<a target=\"_blank\" href=https://colab.research.google.com/notebooks/data_table.ipynb>data table notebook</a>'\n",
              "            + ' to learn more about interactive tables.';\n",
              "          element.innerHTML = '';\n",
              "          dataTable['output_type'] = 'display_data';\n",
              "          await google.colab.output.renderOutput(dataTable, element);\n",
              "          const docLink = document.createElement('div');\n",
              "          docLink.innerHTML = docLinkHtml;\n",
              "          element.appendChild(docLink);\n",
              "        }\n",
              "      </script>\n",
              "    </div>\n",
              "  </div>\n",
              "  "
            ]
          },
          "metadata": {},
          "execution_count": 9
        }
      ],
      "source": [
        "df.tail()"
      ]
    },
    {
      "cell_type": "code",
      "execution_count": null,
      "metadata": {
        "id": "5RYs38Dmm-IY"
      },
      "outputs": [],
      "source": [
        "df_close = df['Close']"
      ]
    },
    {
      "cell_type": "code",
      "execution_count": null,
      "metadata": {
        "id": "Y-BL5n8am-IY",
        "outputId": "c82789e2-46ee-4e47-b83e-487d3783ebf6",
        "colab": {
          "base_uri": "https://localhost:8080/"
        }
      },
      "outputs": [
        {
          "output_type": "execute_result",
          "data": {
            "text/plain": [
              "(1228,)"
            ]
          },
          "metadata": {},
          "execution_count": 11
        }
      ],
      "source": [
        "\n",
        "df_close.shape"
      ]
    },
    {
      "cell_type": "code",
      "execution_count": null,
      "metadata": {
        "id": "pTA3vsuom-IY",
        "outputId": "2a73e9d6-d3fd-4d2d-acab-086612d29d7b",
        "colab": {
          "base_uri": "https://localhost:8080/",
          "height": 282
        }
      },
      "outputs": [
        {
          "output_type": "execute_result",
          "data": {
            "text/plain": [
              "[<matplotlib.lines.Line2D at 0x7f3d7ffc4710>]"
            ]
          },
          "metadata": {},
          "execution_count": 12
        },
        {
          "output_type": "display_data",
          "data": {
            "text/plain": [
              "<Figure size 432x288 with 1 Axes>"
            ],
            "image/png": "[encoded data removed]"
          },
          "metadata": {
            "needs_background": "light"
          }
        }
      ],
      "source": [
        "plt.plot(df_close)"
      ]
    },
    {
      "cell_type": "markdown",
      "metadata": {
        "id": "e2oP3j7Qm-IZ"
      },
      "source": [
        "Since LSTM are sensitive to the scale of the data, so we apply MinMax Scaler to transform our values between 0 and 1"
      ]
    },
    {
      "cell_type": "code",
      "execution_count": null,
      "metadata": {
        "id": "M87-fVwRm-Ia"
      },
      "outputs": [],
      "source": [
        "scaler = MinMaxScaler(feature_range = (0,1))\n",
        "df_close = scaler.fit_transform(np.array(df_close).reshape(-1,1))"
      ]
    },
    {
      "cell_type": "code",
      "execution_count": null,
      "metadata": {
        "id": "Nnp40_Zwm-Ia",
        "outputId": "52d89756-87d6-4eaa-98f1-cfc527d2866d",
        "colab": {
          "base_uri": "https://localhost:8080/"
        }
      },
      "outputs": [
        {
          "output_type": "execute_result",
          "data": {
            "text/plain": [
              "(1228, 1)"
            ]
          },
          "metadata": {},
          "execution_count": 14
        }
      ],
      "source": [
        "df_close.shape"
      ]
    },
    {
      "cell_type": "code",
      "execution_count": null,
      "metadata": {
        "id": "_bnsfeqJm-Ib",
        "outputId": "5f7efcea-0945-4028-85e3-86340c71d215",
        "colab": {
          "base_uri": "https://localhost:8080/"
        }
      },
      "outputs": [
        {
          "output_type": "execute_result",
          "data": {
            "text/plain": [
              "array([[0.02338571],\n",
              "       [0.0226536 ],\n",
              "       [0.0318991 ],\n",
              "       ...,\n",
              "       [0.94285362],\n",
              "       [0.97477365],\n",
              "       [0.97636329]])"
            ]
          },
          "metadata": {},
          "execution_count": 15
        }
      ],
      "source": [
        "df_close"
      ]
    },
    {
      "cell_type": "code",
      "execution_count": null,
      "metadata": {
        "id": "DZeo5nFGm-Ib"
      },
      "outputs": [],
      "source": [
        "#Split the data into train and test split\n",
        "training_size = int(len(df_close) * 0.75)\n",
        "test_size = len(df_close) - training_size\n",
        "train_data, test_data = df_close[0:training_size,:], df_close[training_size:len(df_close),:1]"
      ]
    },
    {
      "cell_type": "code",
      "execution_count": null,
      "metadata": {
        "id": "LOMT-xqjm-Ic"
      },
      "outputs": [],
      "source": [
        "def create_dataset(dataset, time_step = 1):\n",
        "    dataX, dataY = [], []\n",
        "    for i in range(len(dataset) - time_step - 1):\n",
        "        a = dataset[i:(i+time_step), 0]\n",
        "        dataX.append(a)\n",
        "        dataY.append(dataset[i+time_step, 0])\n",
        "    return np.array(dataX), np.array(dataY)"
      ]
    },
    {
      "cell_type": "code",
      "execution_count": null,
      "metadata": {
        "id": "6op6SaFEm-Ic"
      },
      "outputs": [],
      "source": [
        "time_step = 100\n",
        "x_train, y_train = create_dataset(train_data, time_step)\n",
        "x_test, y_test = create_dataset(test_data, time_step)"
      ]
    },
    {
      "cell_type": "code",
      "execution_count": null,
      "metadata": {
        "id": "hhz4-vpem-Id"
      },
      "outputs": [],
      "source": [
        "#Reshape the input to be [samples, time steps, features] which is the requirement of LSTM\n",
        "x_train = x_train.reshape(x_train.shape[0], x_train.shape[1], 1)\n",
        "x_test = x_test.reshape(x_test.shape[0], x_test.shape[1], 1)"
      ]
    },
    {
      "cell_type": "code",
      "execution_count": null,
      "metadata": {
        "id": "zgUNwpq_m-Id"
      },
      "outputs": [],
      "source": [
        "#Create the LSTM Model\n",
        "model = Sequential()\n",
        "model.add(LSTM(50, return_sequences = True, input_shape = (100,1)))\n",
        "model.add(LSTM(50, return_sequences = True))\n",
        "model.add(LSTM(50))\n",
        "model.add(Dense(1))\n",
        "model.compile(loss = 'mean_squared_error', optimizer = 'adam')\n"
      ]
    },
    {
      "cell_type": "code",
      "execution_count": null,
      "metadata": {
        "id": "hFrO7ywMm-Id",
        "outputId": "0915c304-b4d7-419f-f090-321ff4050e7a",
        "colab": {
          "base_uri": "https://localhost:8080/"
        }
      },
      "outputs": [
        {
          "output_type": "stream",
          "name": "stdout",
          "text": [
            "Model: \"sequential\"\n",
            "_________________________________________________________________\n",
            "Layer (type)                 Output Shape              Param #   \n",
            "=================================================================\n",
            "lstm (LSTM)                  (None, 100, 50)           10400     \n",
            "_________________________________________________________________\n",
            "lstm_1 (LSTM)                (None, 100, 50)           20200     \n",
            "_________________________________________________________________\n",
            "lstm_2 (LSTM)                (None, 50)                20200     \n",
            "_________________________________________________________________\n",
            "dense (Dense)                (None, 1)                 51        \n",
            "=================================================================\n",
            "Total params: 50,851\n",
            "Trainable params: 50,851\n",
            "Non-trainable params: 0\n",
            "_________________________________________________________________\n"
          ]
        }
      ],
      "source": [
        "model.summary()"
      ]
    },
    {
      "cell_type": "code",
      "execution_count": null,
      "metadata": {
        "id": "W_WnNV00m-Id",
        "outputId": "095ae29e-acf0-4e81-ed5d-68aa2baaa984",
        "colab": {
          "base_uri": "https://localhost:8080/"
        }
      },
      "outputs": [
        {
          "output_type": "stream",
          "name": "stdout",
          "text": [
            "Epoch 1/100\n",
            "13/13 [==============================] - 10s 280ms/step - loss: 0.0478 - val_loss: 0.0228\n",
            "Epoch 2/100\n",
            "13/13 [==============================] - 3s 219ms/step - loss: 0.0077 - val_loss: 0.0089\n",
            "Epoch 3/100\n",
            "13/13 [==============================] - 3s 225ms/step - loss: 0.0024 - val_loss: 0.0090\n",
            "Epoch 4/100\n",
            "13/13 [==============================] - 3s 222ms/step - loss: 0.0013 - val_loss: 0.0087\n",
            "Epoch 5/100\n",
            "13/13 [==============================] - 3s 222ms/step - loss: 9.8917e-04 - val_loss: 0.0096\n",
            "Epoch 6/100\n",
            "13/13 [==============================] - 3s 226ms/step - loss: 9.4537e-04 - val_loss: 0.0087\n",
            "Epoch 7/100\n",
            "13/13 [==============================] - 3s 226ms/step - loss: 9.1530e-04 - val_loss: 0.0082\n",
            "Epoch 8/100\n",
            "13/13 [==============================] - 3s 230ms/step - loss: 9.0012e-04 - val_loss: 0.0088\n",
            "Epoch 9/100\n",
            "13/13 [==============================] - 3s 224ms/step - loss: 8.9300e-04 - val_loss: 0.0082\n",
            "Epoch 10/100\n",
            "13/13 [==============================] - 3s 222ms/step - loss: 8.8654e-04 - val_loss: 0.0081\n",
            "Epoch 11/100\n",
            "13/13 [==============================] - 3s 222ms/step - loss: 8.7040e-04 - val_loss: 0.0078\n",
            "Epoch 12/100\n",
            "13/13 [==============================] - 3s 224ms/step - loss: 8.5530e-04 - val_loss: 0.0080\n",
            "Epoch 13/100\n",
            "13/13 [==============================] - 3s 224ms/step - loss: 8.4710e-04 - val_loss: 0.0076\n",
            "Epoch 14/100\n",
            "13/13 [==============================] - 3s 222ms/step - loss: 8.6148e-04 - val_loss: 0.0070\n",
            "Epoch 15/100\n",
            "13/13 [==============================] - 3s 230ms/step - loss: 9.0934e-04 - val_loss: 0.0071\n",
            "Epoch 16/100\n",
            "13/13 [==============================] - 3s 237ms/step - loss: 7.8848e-04 - val_loss: 0.0070\n",
            "Epoch 17/100\n",
            "13/13 [==============================] - 4s 284ms/step - loss: 7.9564e-04 - val_loss: 0.0064\n",
            "Epoch 18/100\n",
            "13/13 [==============================] - 3s 220ms/step - loss: 7.4503e-04 - val_loss: 0.0060\n",
            "Epoch 19/100\n",
            "13/13 [==============================] - 3s 229ms/step - loss: 7.7932e-04 - val_loss: 0.0063\n",
            "Epoch 20/100\n",
            "13/13 [==============================] - 3s 225ms/step - loss: 7.2697e-04 - val_loss: 0.0065\n",
            "Epoch 21/100\n",
            "13/13 [==============================] - 3s 226ms/step - loss: 6.7642e-04 - val_loss: 0.0060\n",
            "Epoch 22/100\n",
            "13/13 [==============================] - 3s 219ms/step - loss: 6.5927e-04 - val_loss: 0.0067\n",
            "Epoch 23/100\n",
            "13/13 [==============================] - 3s 235ms/step - loss: 6.4401e-04 - val_loss: 0.0053\n",
            "Epoch 24/100\n",
            "13/13 [==============================] - 3s 221ms/step - loss: 6.4291e-04 - val_loss: 0.0074\n",
            "Epoch 25/100\n",
            "13/13 [==============================] - 3s 232ms/step - loss: 6.9218e-04 - val_loss: 0.0058\n",
            "Epoch 26/100\n",
            "13/13 [==============================] - 3s 223ms/step - loss: 6.3622e-04 - val_loss: 0.0059\n",
            "Epoch 27/100\n",
            "13/13 [==============================] - 3s 243ms/step - loss: 6.4746e-04 - val_loss: 0.0052\n",
            "Epoch 28/100\n",
            "13/13 [==============================] - 3s 235ms/step - loss: 6.3171e-04 - val_loss: 0.0055\n",
            "Epoch 29/100\n",
            "13/13 [==============================] - 3s 229ms/step - loss: 6.5167e-04 - val_loss: 0.0044\n",
            "Epoch 30/100\n",
            "13/13 [==============================] - 3s 234ms/step - loss: 6.1567e-04 - val_loss: 0.0052\n",
            "Epoch 31/100\n",
            "13/13 [==============================] - 3s 231ms/step - loss: 6.1029e-04 - val_loss: 0.0047\n",
            "Epoch 32/100\n",
            "13/13 [==============================] - 3s 234ms/step - loss: 6.4863e-04 - val_loss: 0.0066\n",
            "Epoch 33/100\n",
            "13/13 [==============================] - 3s 230ms/step - loss: 5.8902e-04 - val_loss: 0.0045\n",
            "Epoch 34/100\n",
            "13/13 [==============================] - 3s 228ms/step - loss: 5.5724e-04 - val_loss: 0.0046\n",
            "Epoch 35/100\n",
            "13/13 [==============================] - 3s 227ms/step - loss: 5.7956e-04 - val_loss: 0.0054\n",
            "Epoch 36/100\n",
            "13/13 [==============================] - 3s 231ms/step - loss: 5.7341e-04 - val_loss: 0.0045\n",
            "Epoch 37/100\n",
            "13/13 [==============================] - 3s 223ms/step - loss: 5.5352e-04 - val_loss: 0.0040\n",
            "Epoch 38/100\n",
            "13/13 [==============================] - 3s 232ms/step - loss: 5.5760e-04 - val_loss: 0.0043\n",
            "Epoch 39/100\n",
            "13/13 [==============================] - 3s 224ms/step - loss: 5.4136e-04 - val_loss: 0.0042\n",
            "Epoch 40/100\n",
            "13/13 [==============================] - 3s 225ms/step - loss: 5.3810e-04 - val_loss: 0.0036\n",
            "Epoch 41/100\n",
            "13/13 [==============================] - 3s 228ms/step - loss: 5.7129e-04 - val_loss: 0.0043\n",
            "Epoch 42/100\n",
            "13/13 [==============================] - 3s 227ms/step - loss: 5.2914e-04 - val_loss: 0.0035\n",
            "Epoch 43/100\n",
            "13/13 [==============================] - 3s 232ms/step - loss: 5.3103e-04 - val_loss: 0.0033\n",
            "Epoch 44/100\n",
            "13/13 [==============================] - 3s 233ms/step - loss: 5.5879e-04 - val_loss: 0.0037\n",
            "Epoch 45/100\n",
            "13/13 [==============================] - 3s 225ms/step - loss: 5.3958e-04 - val_loss: 0.0045\n",
            "Epoch 46/100\n",
            "13/13 [==============================] - 3s 238ms/step - loss: 5.2456e-04 - val_loss: 0.0046\n",
            "Epoch 47/100\n",
            "13/13 [==============================] - 4s 285ms/step - loss: 5.2216e-04 - val_loss: 0.0036\n",
            "Epoch 48/100\n",
            "13/13 [==============================] - 3s 239ms/step - loss: 5.1261e-04 - val_loss: 0.0030\n",
            "Epoch 49/100\n",
            "13/13 [==============================] - 3s 234ms/step - loss: 5.8258e-04 - val_loss: 0.0030\n",
            "Epoch 50/100\n",
            "13/13 [==============================] - 3s 232ms/step - loss: 6.5411e-04 - val_loss: 0.0050\n",
            "Epoch 51/100\n",
            "13/13 [==============================] - 3s 237ms/step - loss: 6.6074e-04 - val_loss: 0.0032\n",
            "Epoch 52/100\n",
            "13/13 [==============================] - 3s 237ms/step - loss: 6.3277e-04 - val_loss: 0.0035\n",
            "Epoch 53/100\n",
            "13/13 [==============================] - 3s 234ms/step - loss: 6.3595e-04 - val_loss: 0.0041\n",
            "Epoch 54/100\n",
            "13/13 [==============================] - 3s 227ms/step - loss: 6.0607e-04 - val_loss: 0.0029\n",
            "Epoch 55/100\n",
            "13/13 [==============================] - 3s 225ms/step - loss: 5.4225e-04 - val_loss: 0.0043\n",
            "Epoch 56/100\n",
            "13/13 [==============================] - 3s 231ms/step - loss: 4.9892e-04 - val_loss: 0.0029\n",
            "Epoch 57/100\n",
            "13/13 [==============================] - 3s 226ms/step - loss: 5.0416e-04 - val_loss: 0.0037\n",
            "Epoch 58/100\n",
            "13/13 [==============================] - 3s 240ms/step - loss: 4.9997e-04 - val_loss: 0.0040\n",
            "Epoch 59/100\n",
            "13/13 [==============================] - 3s 240ms/step - loss: 5.0684e-04 - val_loss: 0.0028\n",
            "Epoch 60/100\n",
            "13/13 [==============================] - 3s 231ms/step - loss: 4.9749e-04 - val_loss: 0.0028\n",
            "Epoch 61/100\n",
            "13/13 [==============================] - 5s 422ms/step - loss: 4.8976e-04 - val_loss: 0.0030\n",
            "Epoch 62/100\n",
            "13/13 [==============================] - 7s 514ms/step - loss: 4.7284e-04 - val_loss: 0.0027\n",
            "Epoch 63/100\n",
            "13/13 [==============================] - 6s 488ms/step - loss: 4.8250e-04 - val_loss: 0.0053\n",
            "Epoch 64/100\n",
            "13/13 [==============================] - 5s 369ms/step - loss: 5.0513e-04 - val_loss: 0.0026\n",
            "Epoch 65/100\n",
            "13/13 [==============================] - 3s 240ms/step - loss: 5.0306e-04 - val_loss: 0.0035\n",
            "Epoch 66/100\n",
            "13/13 [==============================] - 3s 235ms/step - loss: 5.3805e-04 - val_loss: 0.0027\n",
            "Epoch 67/100\n",
            "13/13 [==============================] - 3s 223ms/step - loss: 4.4636e-04 - val_loss: 0.0027\n",
            "Epoch 68/100\n",
            "13/13 [==============================] - 3s 233ms/step - loss: 4.4663e-04 - val_loss: 0.0027\n",
            "Epoch 69/100\n",
            "13/13 [==============================] - 3s 238ms/step - loss: 4.4564e-04 - val_loss: 0.0026\n",
            "Epoch 70/100\n",
            "13/13 [==============================] - 3s 226ms/step - loss: 4.3573e-04 - val_loss: 0.0026\n",
            "Epoch 71/100\n",
            "13/13 [==============================] - 3s 216ms/step - loss: 4.5006e-04 - val_loss: 0.0027\n",
            "Epoch 72/100\n",
            "13/13 [==============================] - 3s 208ms/step - loss: 4.2708e-04 - val_loss: 0.0030\n",
            "Epoch 73/100\n",
            "13/13 [==============================] - 3s 200ms/step - loss: 4.2426e-04 - val_loss: 0.0025\n",
            "Epoch 74/100\n",
            "13/13 [==============================] - 3s 238ms/step - loss: 4.5104e-04 - val_loss: 0.0026\n",
            "Epoch 75/100\n",
            "13/13 [==============================] - 3s 196ms/step - loss: 4.1845e-04 - val_loss: 0.0027\n",
            "Epoch 76/100\n",
            "13/13 [==============================] - 3s 194ms/step - loss: 3.9954e-04 - val_loss: 0.0028\n",
            "Epoch 77/100\n",
            "13/13 [==============================] - 3s 193ms/step - loss: 4.2437e-04 - val_loss: 0.0025\n",
            "Epoch 78/100\n",
            "13/13 [==============================] - 3s 194ms/step - loss: 4.0538e-04 - val_loss: 0.0024\n",
            "Epoch 79/100\n",
            "13/13 [==============================] - 3s 195ms/step - loss: 3.9422e-04 - val_loss: 0.0029\n",
            "Epoch 80/100\n",
            "13/13 [==============================] - 3s 194ms/step - loss: 3.8529e-04 - val_loss: 0.0025\n",
            "Epoch 81/100\n",
            "13/13 [==============================] - 3s 204ms/step - loss: 3.8060e-04 - val_loss: 0.0023\n",
            "Epoch 82/100\n",
            "13/13 [==============================] - 3s 208ms/step - loss: 3.8392e-04 - val_loss: 0.0023\n",
            "Epoch 83/100\n",
            "13/13 [==============================] - 3s 205ms/step - loss: 3.5776e-04 - val_loss: 0.0023\n",
            "Epoch 84/100\n",
            "13/13 [==============================] - 3s 206ms/step - loss: 3.7391e-04 - val_loss: 0.0028\n",
            "Epoch 85/100\n",
            "13/13 [==============================] - 3s 206ms/step - loss: 3.5739e-04 - val_loss: 0.0025\n",
            "Epoch 86/100\n",
            "13/13 [==============================] - 3s 207ms/step - loss: 4.0156e-04 - val_loss: 0.0032\n",
            "Epoch 87/100\n",
            "13/13 [==============================] - 3s 204ms/step - loss: 3.5245e-04 - val_loss: 0.0024\n",
            "Epoch 88/100\n",
            "13/13 [==============================] - 3s 207ms/step - loss: 3.4761e-04 - val_loss: 0.0019\n",
            "Epoch 89/100\n",
            "13/13 [==============================] - 3s 206ms/step - loss: 3.3475e-04 - val_loss: 0.0022\n",
            "Epoch 90/100\n",
            "13/13 [==============================] - 3s 206ms/step - loss: 3.2262e-04 - val_loss: 0.0020\n",
            "Epoch 91/100\n",
            "13/13 [==============================] - 3s 206ms/step - loss: 3.0458e-04 - val_loss: 0.0021\n",
            "Epoch 92/100\n",
            "13/13 [==============================] - 3s 205ms/step - loss: 2.9381e-04 - val_loss: 0.0020\n",
            "Epoch 93/100\n",
            "13/13 [==============================] - 3s 208ms/step - loss: 2.9662e-04 - val_loss: 0.0024\n",
            "Epoch 94/100\n",
            "13/13 [==============================] - 4s 329ms/step - loss: 2.9739e-04 - val_loss: 0.0023\n",
            "Epoch 95/100\n",
            "13/13 [==============================] - 3s 199ms/step - loss: 2.8107e-04 - val_loss: 0.0019\n",
            "Epoch 96/100\n",
            "13/13 [==============================] - 3s 195ms/step - loss: 3.2585e-04 - val_loss: 0.0027\n",
            "Epoch 97/100\n",
            "13/13 [==============================] - 3s 199ms/step - loss: 2.7978e-04 - val_loss: 0.0019\n",
            "Epoch 98/100\n",
            "13/13 [==============================] - 3s 261ms/step - loss: 2.8607e-04 - val_loss: 0.0028\n",
            "Epoch 99/100\n",
            "13/13 [==============================] - 3s 196ms/step - loss: 2.6135e-04 - val_loss: 0.0032\n",
            "Epoch 100/100\n",
            "13/13 [==============================] - 3s 198ms/step - loss: 2.7579e-04 - val_loss: 0.0025\n"
          ]
        },
        {
          "output_type": "execute_result",
          "data": {
            "text/plain": [
              "<tensorflow.python.keras.callbacks.History at 0x7f3d7bbf4310>"
            ]
          },
          "metadata": {},
          "execution_count": 22
        }
      ],
      "source": [
        "model.fit(x_train, y_train, validation_data = (x_test, y_test), epochs = 100, batch_size = 64, verbose = 1)"
      ]
    },
    {
      "cell_type": "code",
      "execution_count": null,
      "metadata": {
        "id": "Bx2G9RkRm-Ie"
      },
      "outputs": [],
      "source": [
        "#Lets predict and check performance metrics\n",
        "train_predict = model.predict(x_train)\n",
        "test_predict = model.predict(x_test)"
      ]
    },
    {
      "cell_type": "code",
      "execution_count": null,
      "metadata": {
        "id": "dPrevfpNm-Ie"
      },
      "outputs": [],
      "source": [
        "#Transform back to original form\n",
        "train_predict = scaler.inverse_transform(train_predict)\n",
        "test_predict = scaler.inverse_transform(test_predict)"
      ]
    },
    {
      "cell_type": "code",
      "execution_count": null,
      "metadata": {
        "id": "ZWpINjzKm-Ie",
        "outputId": "61445252-2a2a-4dbe-fea5-7f7a052ab85b",
        "colab": {
          "base_uri": "https://localhost:8080/"
        }
      },
      "outputs": [
        {
          "output_type": "execute_result",
          "data": {
            "text/plain": [
              "800.9212344734367"
            ]
          },
          "metadata": {},
          "execution_count": 25
        }
      ],
      "source": [
        "#Calculate RMSE performance metrics\n",
        "math.sqrt(mean_squared_error(y_train, train_predict))"
      ]
    },
    {
      "cell_type": "code",
      "execution_count": null,
      "metadata": {
        "id": "bJY69kCmm-If",
        "outputId": "1e7c0c1a-443b-4fa2-8f5f-0be33d63f6c6",
        "colab": {
          "base_uri": "https://localhost:8080/"
        }
      },
      "outputs": [
        {
          "output_type": "execute_result",
          "data": {
            "text/plain": [
              "1345.3029602998306"
            ]
          },
          "metadata": {},
          "execution_count": 26
        }
      ],
      "source": [
        "#Test Data RMSE\n",
        "math.sqrt(mean_squared_error(y_test, test_predict))"
      ]
    },
    {
      "cell_type": "code",
      "execution_count": null,
      "metadata": {
        "id": "aKozgs29m-If",
        "outputId": "1ba77c99-c697-4cf3-c2b5-34c9c0d64f29",
        "colab": {
          "base_uri": "https://localhost:8080/",
          "height": 265
        }
      },
      "outputs": [
        {
          "output_type": "display_data",
          "data": {
            "text/plain": [
              "<Figure size 432x288 with 1 Axes>"
            ],
            "image/png": "[encoded data removed]"
          },
          "metadata": {
            "needs_background": "light"
          }
        }
      ],
      "source": [
        "#Plotting\n",
        "\n",
        "#Shift train prediction for plotting\n",
        "look_back = 100\n",
        "trainPredictPlot = np.empty_like(df_close)\n",
        "trainPredictPlot[:,:] = np.nan\n",
        "trainPredictPlot[look_back:len(train_predict) + look_back, :] = train_predict\n",
        "\n",
        "#Shift test prediction for plotting\n",
        "testPredictPlot = np.empty_like(df_close)\n",
        "testPredictPlot[:,:] = np.nan\n",
        "testPredictPlot[len(train_predict) + (look_back * 2)+1:len(df_close) - 1, :] = test_predict\n",
        "\n",
        "#Plot baseline and predictions\n",
        "plt.plot(scaler.inverse_transform(df_close))\n",
        "plt.plot(trainPredictPlot)\n",
        "plt.plot(testPredictPlot)\n",
        "plt.show()"
      ]
    },
    {
      "cell_type": "markdown",
      "metadata": {
        "id": "Qvm1IPPXm-Ig"
      },
      "source": [
        "### Predict the next 30 days Stock Price"
      ]
    },
    {
      "cell_type": "code",
      "execution_count": null,
      "metadata": {
        "id": "q8itsxtCm-Ig",
        "outputId": "22a26d2c-5913-4a4c-926e-75c1e36b6cee",
        "colab": {
          "base_uri": "https://localhost:8080/"
        }
      },
      "outputs": [
        {
          "output_type": "execute_result",
          "data": {
            "text/plain": [
              "(307, (206, 100, 1))"
            ]
          },
          "metadata": {},
          "execution_count": 28
        }
      ],
      "source": [
        "len(test_data), x_test.shape"
      ]
    },
    {
      "cell_type": "code",
      "execution_count": null,
      "metadata": {
        "id": "-_tcn7LJm-Ih",
        "outputId": "4c8dde15-c138-40cc-9e45-d808b2163fe6",
        "colab": {
          "base_uri": "https://localhost:8080/"
        }
      },
      "outputs": [
        {
          "output_type": "execute_result",
          "data": {
            "text/plain": [
              "(1, 100)"
            ]
          },
          "metadata": {},
          "execution_count": 29
        }
      ],
      "source": [
        "x_input = test_data[207:].reshape(1,-1)\n",
        "x_input.shape"
      ]
    },
    {
      "cell_type": "code",
      "execution_count": null,
      "metadata": {
        "id": "uBiSxOO9m-Ih"
      },
      "outputs": [],
      "source": [
        "temp_input = list(x_input)\n",
        "temp_input = temp_input[0].tolist()"
      ]
    },
    {
      "cell_type": "code",
      "execution_count": null,
      "metadata": {
        "id": "kpy4NwKym-Ih",
        "outputId": "cf8029cb-fe33-4c46-ba00-feebcf033e46",
        "colab": {
          "base_uri": "https://localhost:8080/"
        }
      },
      "outputs": [
        {
          "output_type": "stream",
          "name": "stdout",
          "text": [
            "[0.9122884]\n",
            "101\n",
            "1 day input [0.94816663 0.9478738  0.94456879 0.93260407 0.92796036 0.939716\n",
            " 0.97577765 0.93507229 0.93636921 0.93590899 0.93047045 0.92603602\n",
            " 0.91348555 0.88436843 0.89114567 0.8609409  0.83408293 0.81220327\n",
            " 0.84642422 0.86491522 0.87269654 0.85249028 0.8541218  0.86847118\n",
            " 0.88315526 0.88637653 0.89763007 0.88980697 0.88072882 0.91118463\n",
            " 0.8962495  0.8619449  0.83805724 0.8176418  0.81283079 0.76463703\n",
            " 0.75417831 0.7765181  0.77388248 0.74999482 0.71640139 0.5851654\n",
            " 0.6181313  0.5423683  0.57776065 0.50279251 0.49634993 0.46330038\n",
            " 0.42079615 0.50467508 0.39264125 0.44229929 0.55847473 0.54504569\n",
            " 0.54454369 0.51513375 0.5848307  0.55696863 0.55445854 0.6620997\n",
            " 0.65042781 0.67368794 0.64791772 0.61503546 0.63026342 0.67707661\n",
            " 0.69364326 0.6882465  0.79387957 0.7999875  0.83855924 0.84922714\n",
            " 0.84788844 0.84688434 0.86803608 0.84250843 0.86360165 0.86368529\n",
            " 0.90198096 0.9474387  0.95987202 0.87902192 0.90503482 0.85441462\n",
            " 0.87403524 0.85843081 0.83178201 0.85253205 0.85884916 0.85073323\n",
            " 0.844458   0.862447   0.88478678 0.87821873 0.92503192 0.9378752\n",
            " 0.94285362 0.97477365 0.97636329 0.91228843]\n",
            "1 day output [[0.89956975]]\n",
            "2 day input [0.9478738  0.94456879 0.93260407 0.92796036 0.939716   0.97577765\n",
            " 0.93507229 0.93636921 0.93590899 0.93047045 0.92603602 0.91348555\n",
            " 0.88436843 0.89114567 0.8609409  0.83408293 0.81220327 0.84642422\n",
            " 0.86491522 0.87269654 0.85249028 0.8541218  0.86847118 0.88315526\n",
            " 0.88637653 0.89763007 0.88980697 0.88072882 0.91118463 0.8962495\n",
            " 0.8619449  0.83805724 0.8176418  0.81283079 0.76463703 0.75417831\n",
            " 0.7765181  0.77388248 0.74999482 0.71640139 0.5851654  0.6181313\n",
            " 0.5423683  0.57776065 0.50279251 0.49634993 0.46330038 0.42079615\n",
            " 0.50467508 0.39264125 0.44229929 0.55847473 0.54504569 0.54454369\n",
            " 0.51513375 0.5848307  0.55696863 0.55445854 0.6620997  0.65042781\n",
            " 0.67368794 0.64791772 0.61503546 0.63026342 0.67707661 0.69364326\n",
            " 0.6882465  0.79387957 0.7999875  0.83855924 0.84922714 0.84788844\n",
            " 0.84688434 0.86803608 0.84250843 0.86360165 0.86368529 0.90198096\n",
            " 0.9474387  0.95987202 0.87902192 0.90503482 0.85441462 0.87403524\n",
            " 0.85843081 0.83178201 0.85253205 0.85884916 0.85073323 0.844458\n",
            " 0.862447   0.88478678 0.87821873 0.92503192 0.9378752  0.94285362\n",
            " 0.97477365 0.97636329 0.91228843 0.89956975]\n",
            "2 day output [[0.8787911]]\n",
            "3 day input [0.94456879 0.93260407 0.92796036 0.939716   0.97577765 0.93507229\n",
            " 0.93636921 0.93590899 0.93047045 0.92603602 0.91348555 0.88436843\n",
            " 0.89114567 0.8609409  0.83408293 0.81220327 0.84642422 0.86491522\n",
            " 0.87269654 0.85249028 0.8541218  0.86847118 0.88315526 0.88637653\n",
            " 0.89763007 0.88980697 0.88072882 0.91118463 0.8962495  0.8619449\n",
            " 0.83805724 0.8176418  0.81283079 0.76463703 0.75417831 0.7765181\n",
            " 0.77388248 0.74999482 0.71640139 0.5851654  0.6181313  0.5423683\n",
            " 0.57776065 0.50279251 0.49634993 0.46330038 0.42079615 0.50467508\n",
            " 0.39264125 0.44229929 0.55847473 0.54504569 0.54454369 0.51513375\n",
            " 0.5848307  0.55696863 0.55445854 0.6620997  0.65042781 0.67368794\n",
            " 0.64791772 0.61503546 0.63026342 0.67707661 0.69364326 0.6882465\n",
            " 0.79387957 0.7999875  0.83855924 0.84922714 0.84788844 0.84688434\n",
            " 0.86803608 0.84250843 0.86360165 0.86368529 0.90198096 0.9474387\n",
            " 0.95987202 0.87902192 0.90503482 0.85441462 0.87403524 0.85843081\n",
            " 0.83178201 0.85253205 0.85884916 0.85073323 0.844458   0.862447\n",
            " 0.88478678 0.87821873 0.92503192 0.9378752  0.94285362 0.97477365\n",
            " 0.97636329 0.91228843 0.89956975 0.87879109]\n",
            "3 day output [[0.861632]]\n",
            "4 day input [0.93260407 0.92796036 0.939716   0.97577765 0.93507229 0.93636921\n",
            " 0.93590899 0.93047045 0.92603602 0.91348555 0.88436843 0.89114567\n",
            " 0.8609409  0.83408293 0.81220327 0.84642422 0.86491522 0.87269654\n",
            " 0.85249028 0.8541218  0.86847118 0.88315526 0.88637653 0.89763007\n",
            " 0.88980697 0.88072882 0.91118463 0.8962495  0.8619449  0.83805724\n",
            " 0.8176418  0.81283079 0.76463703 0.75417831 0.7765181  0.77388248\n",
            " 0.74999482 0.71640139 0.5851654  0.6181313  0.5423683  0.57776065\n",
            " 0.50279251 0.49634993 0.46330038 0.42079615 0.50467508 0.39264125\n",
            " 0.44229929 0.55847473 0.54504569 0.54454369 0.51513375 0.5848307\n",
            " 0.55696863 0.55445854 0.6620997  0.65042781 0.67368794 0.64791772\n",
            " 0.61503546 0.63026342 0.67707661 0.69364326 0.6882465  0.79387957\n",
            " 0.7999875  0.83855924 0.84922714 0.84788844 0.84688434 0.86803608\n",
            " 0.84250843 0.86360165 0.86368529 0.90198096 0.9474387  0.95987202\n",
            " 0.87902192 0.90503482 0.85441462 0.87403524 0.85843081 0.83178201\n",
            " 0.85253205 0.85884916 0.85073323 0.844458   0.862447   0.88478678\n",
            " 0.87821873 0.92503192 0.9378752  0.94285362 0.97477365 0.97636329\n",
            " 0.91228843 0.89956975 0.87879109 0.86163199]\n",
            "4 day output [[0.8523384]]\n",
            "5 day input [0.92796036 0.939716   0.97577765 0.93507229 0.93636921 0.93590899\n",
            " 0.93047045 0.92603602 0.91348555 0.88436843 0.89114567 0.8609409\n",
            " 0.83408293 0.81220327 0.84642422 0.86491522 0.87269654 0.85249028\n",
            " 0.8541218  0.86847118 0.88315526 0.88637653 0.89763007 0.88980697\n",
            " 0.88072882 0.91118463 0.8962495  0.8619449  0.83805724 0.8176418\n",
            " 0.81283079 0.76463703 0.75417831 0.7765181  0.77388248 0.74999482\n",
            " 0.71640139 0.5851654  0.6181313  0.5423683  0.57776065 0.50279251\n",
            " 0.49634993 0.46330038 0.42079615 0.50467508 0.39264125 0.44229929\n",
            " 0.55847473 0.54504569 0.54454369 0.51513375 0.5848307  0.55696863\n",
            " 0.55445854 0.6620997  0.65042781 0.67368794 0.64791772 0.61503546\n",
            " 0.63026342 0.67707661 0.69364326 0.6882465  0.79387957 0.7999875\n",
            " 0.83855924 0.84922714 0.84788844 0.84688434 0.86803608 0.84250843\n",
            " 0.86360165 0.86368529 0.90198096 0.9474387  0.95987202 0.87902192\n",
            " 0.90503482 0.85441462 0.87403524 0.85843081 0.83178201 0.85253205\n",
            " 0.85884916 0.85073323 0.844458   0.862447   0.88478678 0.87821873\n",
            " 0.92503192 0.9378752  0.94285362 0.97477365 0.97636329 0.91228843\n",
            " 0.89956975 0.87879109 0.86163199 0.85233837]\n",
            "5 day output [[0.8483894]]\n",
            "6 day input [0.939716   0.97577765 0.93507229 0.93636921 0.93590899 0.93047045\n",
            " 0.92603602 0.91348555 0.88436843 0.89114567 0.8609409  0.83408293\n",
            " 0.81220327 0.84642422 0.86491522 0.87269654 0.85249028 0.8541218\n",
            " 0.86847118 0.88315526 0.88637653 0.89763007 0.88980697 0.88072882\n",
            " 0.91118463 0.8962495  0.8619449  0.83805724 0.8176418  0.81283079\n",
            " 0.76463703 0.75417831 0.7765181  0.77388248 0.74999482 0.71640139\n",
            " 0.5851654  0.6181313  0.5423683  0.57776065 0.50279251 0.49634993\n",
            " 0.46330038 0.42079615 0.50467508 0.39264125 0.44229929 0.55847473\n",
            " 0.54504569 0.54454369 0.51513375 0.5848307  0.55696863 0.55445854\n",
            " 0.6620997  0.65042781 0.67368794 0.64791772 0.61503546 0.63026342\n",
            " 0.67707661 0.69364326 0.6882465  0.79387957 0.7999875  0.83855924\n",
            " 0.84922714 0.84788844 0.84688434 0.86803608 0.84250843 0.86360165\n",
            " 0.86368529 0.90198096 0.9474387  0.95987202 0.87902192 0.90503482\n",
            " 0.85441462 0.87403524 0.85843081 0.83178201 0.85253205 0.85884916\n",
            " 0.85073323 0.844458   0.862447   0.88478678 0.87821873 0.92503192\n",
            " 0.9378752  0.94285362 0.97477365 0.97636329 0.91228843 0.89956975\n",
            " 0.87879109 0.86163199 0.85233837 0.84838939]\n",
            "6 day output [[0.8483786]]\n",
            "7 day input [0.97577765 0.93507229 0.93636921 0.93590899 0.93047045 0.92603602\n",
            " 0.91348555 0.88436843 0.89114567 0.8609409  0.83408293 0.81220327\n",
            " 0.84642422 0.86491522 0.87269654 0.85249028 0.8541218  0.86847118\n",
            " 0.88315526 0.88637653 0.89763007 0.88980697 0.88072882 0.91118463\n",
            " 0.8962495  0.8619449  0.83805724 0.8176418  0.81283079 0.76463703\n",
            " 0.75417831 0.7765181  0.77388248 0.74999482 0.71640139 0.5851654\n",
            " 0.6181313  0.5423683  0.57776065 0.50279251 0.49634993 0.46330038\n",
            " 0.42079615 0.50467508 0.39264125 0.44229929 0.55847473 0.54504569\n",
            " 0.54454369 0.51513375 0.5848307  0.55696863 0.55445854 0.6620997\n",
            " 0.65042781 0.67368794 0.64791772 0.61503546 0.63026342 0.67707661\n",
            " 0.69364326 0.6882465  0.79387957 0.7999875  0.83855924 0.84922714\n",
            " 0.84788844 0.84688434 0.86803608 0.84250843 0.86360165 0.86368529\n",
            " 0.90198096 0.9474387  0.95987202 0.87902192 0.90503482 0.85441462\n",
            " 0.87403524 0.85843081 0.83178201 0.85253205 0.85884916 0.85073323\n",
            " 0.844458   0.862447   0.88478678 0.87821873 0.92503192 0.9378752\n",
            " 0.94285362 0.97477365 0.97636329 0.91228843 0.89956975 0.87879109\n",
            " 0.86163199 0.85233837 0.84838939 0.8483786 ]\n",
            "7 day output [[0.84869236]]\n",
            "8 day input [0.93507229 0.93636921 0.93590899 0.93047045 0.92603602 0.91348555\n",
            " 0.88436843 0.89114567 0.8609409  0.83408293 0.81220327 0.84642422\n",
            " 0.86491522 0.87269654 0.85249028 0.8541218  0.86847118 0.88315526\n",
            " 0.88637653 0.89763007 0.88980697 0.88072882 0.91118463 0.8962495\n",
            " 0.8619449  0.83805724 0.8176418  0.81283079 0.76463703 0.75417831\n",
            " 0.7765181  0.77388248 0.74999482 0.71640139 0.5851654  0.6181313\n",
            " 0.5423683  0.57776065 0.50279251 0.49634993 0.46330038 0.42079615\n",
            " 0.50467508 0.39264125 0.44229929 0.55847473 0.54504569 0.54454369\n",
            " 0.51513375 0.5848307  0.55696863 0.55445854 0.6620997  0.65042781\n",
            " 0.67368794 0.64791772 0.61503546 0.63026342 0.67707661 0.69364326\n",
            " 0.6882465  0.79387957 0.7999875  0.83855924 0.84922714 0.84788844\n",
            " 0.84688434 0.86803608 0.84250843 0.86360165 0.86368529 0.90198096\n",
            " 0.9474387  0.95987202 0.87902192 0.90503482 0.85441462 0.87403524\n",
            " 0.85843081 0.83178201 0.85253205 0.85884916 0.85073323 0.844458\n",
            " 0.862447   0.88478678 0.87821873 0.92503192 0.9378752  0.94285362\n",
            " 0.97477365 0.97636329 0.91228843 0.89956975 0.87879109 0.86163199\n",
            " 0.85233837 0.84838939 0.8483786  0.84869236]\n",
            "8 day output [[0.84621406]]\n",
            "9 day input [0.93636921 0.93590899 0.93047045 0.92603602 0.91348555 0.88436843\n",
            " 0.89114567 0.8609409  0.83408293 0.81220327 0.84642422 0.86491522\n",
            " 0.87269654 0.85249028 0.8541218  0.86847118 0.88315526 0.88637653\n",
            " 0.89763007 0.88980697 0.88072882 0.91118463 0.8962495  0.8619449\n",
            " 0.83805724 0.8176418  0.81283079 0.76463703 0.75417831 0.7765181\n",
            " 0.77388248 0.74999482 0.71640139 0.5851654  0.6181313  0.5423683\n",
            " 0.57776065 0.50279251 0.49634993 0.46330038 0.42079615 0.50467508\n",
            " 0.39264125 0.44229929 0.55847473 0.54504569 0.54454369 0.51513375\n",
            " 0.5848307  0.55696863 0.55445854 0.6620997  0.65042781 0.67368794\n",
            " 0.64791772 0.61503546 0.63026342 0.67707661 0.69364326 0.6882465\n",
            " 0.79387957 0.7999875  0.83855924 0.84922714 0.84788844 0.84688434\n",
            " 0.86803608 0.84250843 0.86360165 0.86368529 0.90198096 0.9474387\n",
            " 0.95987202 0.87902192 0.90503482 0.85441462 0.87403524 0.85843081\n",
            " 0.83178201 0.85253205 0.85884916 0.85073323 0.844458   0.862447\n",
            " 0.88478678 0.87821873 0.92503192 0.9378752  0.94285362 0.97477365\n",
            " 0.97636329 0.91228843 0.89956975 0.87879109 0.86163199 0.85233837\n",
            " 0.84838939 0.8483786  0.84869236 0.84621406]\n",
            "9 day output [[0.83970827]]\n",
            "10 day input [0.93590899 0.93047045 0.92603602 0.91348555 0.88436843 0.89114567\n",
            " 0.8609409  0.83408293 0.81220327 0.84642422 0.86491522 0.87269654\n",
            " 0.85249028 0.8541218  0.86847118 0.88315526 0.88637653 0.89763007\n",
            " 0.88980697 0.88072882 0.91118463 0.8962495  0.8619449  0.83805724\n",
            " 0.8176418  0.81283079 0.76463703 0.75417831 0.7765181  0.77388248\n",
            " 0.74999482 0.71640139 0.5851654  0.6181313  0.5423683  0.57776065\n",
            " 0.50279251 0.49634993 0.46330038 0.42079615 0.50467508 0.39264125\n",
            " 0.44229929 0.55847473 0.54504569 0.54454369 0.51513375 0.5848307\n",
            " 0.55696863 0.55445854 0.6620997  0.65042781 0.67368794 0.64791772\n",
            " 0.61503546 0.63026342 0.67707661 0.69364326 0.6882465  0.79387957\n",
            " 0.7999875  0.83855924 0.84922714 0.84788844 0.84688434 0.86803608\n",
            " 0.84250843 0.86360165 0.86368529 0.90198096 0.9474387  0.95987202\n",
            " 0.87902192 0.90503482 0.85441462 0.87403524 0.85843081 0.83178201\n",
            " 0.85253205 0.85884916 0.85073323 0.844458   0.862447   0.88478678\n",
            " 0.87821873 0.92503192 0.9378752  0.94285362 0.97477365 0.97636329\n",
            " 0.91228843 0.89956975 0.87879109 0.86163199 0.85233837 0.84838939\n",
            " 0.8483786  0.84869236 0.84621406 0.83970827]\n",
            "10 day output [[0.82954794]]\n",
            "11 day input [0.93047045 0.92603602 0.91348555 0.88436843 0.89114567 0.8609409\n",
            " 0.83408293 0.81220327 0.84642422 0.86491522 0.87269654 0.85249028\n",
            " 0.8541218  0.86847118 0.88315526 0.88637653 0.89763007 0.88980697\n",
            " 0.88072882 0.91118463 0.8962495  0.8619449  0.83805724 0.8176418\n",
            " 0.81283079 0.76463703 0.75417831 0.7765181  0.77388248 0.74999482\n",
            " 0.71640139 0.5851654  0.6181313  0.5423683  0.57776065 0.50279251\n",
            " 0.49634993 0.46330038 0.42079615 0.50467508 0.39264125 0.44229929\n",
            " 0.55847473 0.54504569 0.54454369 0.51513375 0.5848307  0.55696863\n",
            " 0.55445854 0.6620997  0.65042781 0.67368794 0.64791772 0.61503546\n",
            " 0.63026342 0.67707661 0.69364326 0.6882465  0.79387957 0.7999875\n",
            " 0.83855924 0.84922714 0.84788844 0.84688434 0.86803608 0.84250843\n",
            " 0.86360165 0.86368529 0.90198096 0.9474387  0.95987202 0.87902192\n",
            " 0.90503482 0.85441462 0.87403524 0.85843081 0.83178201 0.85253205\n",
            " 0.85884916 0.85073323 0.844458   0.862447   0.88478678 0.87821873\n",
            " 0.92503192 0.9378752  0.94285362 0.97477365 0.97636329 0.91228843\n",
            " 0.89956975 0.87879109 0.86163199 0.85233837 0.84838939 0.8483786\n",
            " 0.84869236 0.84621406 0.83970827 0.82954794]\n",
            "11 day output [[0.8170705]]\n",
            "12 day input [0.92603602 0.91348555 0.88436843 0.89114567 0.8609409  0.83408293\n",
            " 0.81220327 0.84642422 0.86491522 0.87269654 0.85249028 0.8541218\n",
            " 0.86847118 0.88315526 0.88637653 0.89763007 0.88980697 0.88072882\n",
            " 0.91118463 0.8962495  0.8619449  0.83805724 0.8176418  0.81283079\n",
            " 0.76463703 0.75417831 0.7765181  0.77388248 0.74999482 0.71640139\n",
            " 0.5851654  0.6181313  0.5423683  0.57776065 0.50279251 0.49634993\n",
            " 0.46330038 0.42079615 0.50467508 0.39264125 0.44229929 0.55847473\n",
            " 0.54504569 0.54454369 0.51513375 0.5848307  0.55696863 0.55445854\n",
            " 0.6620997  0.65042781 0.67368794 0.64791772 0.61503546 0.63026342\n",
            " 0.67707661 0.69364326 0.6882465  0.79387957 0.7999875  0.83855924\n",
            " 0.84922714 0.84788844 0.84688434 0.86803608 0.84250843 0.86360165\n",
            " 0.86368529 0.90198096 0.9474387  0.95987202 0.87902192 0.90503482\n",
            " 0.85441462 0.87403524 0.85843081 0.83178201 0.85253205 0.85884916\n",
            " 0.85073323 0.844458   0.862447   0.88478678 0.87821873 0.92503192\n",
            " 0.9378752  0.94285362 0.97477365 0.97636329 0.91228843 0.89956975\n",
            " 0.87879109 0.86163199 0.85233837 0.84838939 0.8483786  0.84869236\n",
            " 0.84621406 0.83970827 0.82954794 0.81707048]\n",
            "12 day output [[0.8038787]]\n",
            "13 day input [0.91348555 0.88436843 0.89114567 0.8609409  0.83408293 0.81220327\n",
            " 0.84642422 0.86491522 0.87269654 0.85249028 0.8541218  0.86847118\n",
            " 0.88315526 0.88637653 0.89763007 0.88980697 0.88072882 0.91118463\n",
            " 0.8962495  0.8619449  0.83805724 0.8176418  0.81283079 0.76463703\n",
            " 0.75417831 0.7765181  0.77388248 0.74999482 0.71640139 0.5851654\n",
            " 0.6181313  0.5423683  0.57776065 0.50279251 0.49634993 0.46330038\n",
            " 0.42079615 0.50467508 0.39264125 0.44229929 0.55847473 0.54504569\n",
            " 0.54454369 0.51513375 0.5848307  0.55696863 0.55445854 0.6620997\n",
            " 0.65042781 0.67368794 0.64791772 0.61503546 0.63026342 0.67707661\n",
            " 0.69364326 0.6882465  0.79387957 0.7999875  0.83855924 0.84922714\n",
            " 0.84788844 0.84688434 0.86803608 0.84250843 0.86360165 0.86368529\n",
            " 0.90198096 0.9474387  0.95987202 0.87902192 0.90503482 0.85441462\n",
            " 0.87403524 0.85843081 0.83178201 0.85253205 0.85884916 0.85073323\n",
            " 0.844458   0.862447   0.88478678 0.87821873 0.92503192 0.9378752\n",
            " 0.94285362 0.97477365 0.97636329 0.91228843 0.89956975 0.87879109\n",
            " 0.86163199 0.85233837 0.84838939 0.8483786  0.84869236 0.84621406\n",
            " 0.83970827 0.82954794 0.81707048 0.80387872]\n",
            "13 day output [[0.79127675]]\n",
            "14 day input [0.88436843 0.89114567 0.8609409  0.83408293 0.81220327 0.84642422\n",
            " 0.86491522 0.87269654 0.85249028 0.8541218  0.86847118 0.88315526\n",
            " 0.88637653 0.89763007 0.88980697 0.88072882 0.91118463 0.8962495\n",
            " 0.8619449  0.83805724 0.8176418  0.81283079 0.76463703 0.75417831\n",
            " 0.7765181  0.77388248 0.74999482 0.71640139 0.5851654  0.6181313\n",
            " 0.5423683  0.57776065 0.50279251 0.49634993 0.46330038 0.42079615\n",
            " 0.50467508 0.39264125 0.44229929 0.55847473 0.54504569 0.54454369\n",
            " 0.51513375 0.5848307  0.55696863 0.55445854 0.6620997  0.65042781\n",
            " 0.67368794 0.64791772 0.61503546 0.63026342 0.67707661 0.69364326\n",
            " 0.6882465  0.79387957 0.7999875  0.83855924 0.84922714 0.84788844\n",
            " 0.84688434 0.86803608 0.84250843 0.86360165 0.86368529 0.90198096\n",
            " 0.9474387  0.95987202 0.87902192 0.90503482 0.85441462 0.87403524\n",
            " 0.85843081 0.83178201 0.85253205 0.85884916 0.85073323 0.844458\n",
            " 0.862447   0.88478678 0.87821873 0.92503192 0.9378752  0.94285362\n",
            " 0.97477365 0.97636329 0.91228843 0.89956975 0.87879109 0.86163199\n",
            " 0.85233837 0.84838939 0.8483786  0.84869236 0.84621406 0.83970827\n",
            " 0.82954794 0.81707048 0.80387872 0.79127675]\n",
            "14 day output [[0.7799575]]\n",
            "15 day input [0.89114567 0.8609409  0.83408293 0.81220327 0.84642422 0.86491522\n",
            " 0.87269654 0.85249028 0.8541218  0.86847118 0.88315526 0.88637653\n",
            " 0.89763007 0.88980697 0.88072882 0.91118463 0.8962495  0.8619449\n",
            " 0.83805724 0.8176418  0.81283079 0.76463703 0.75417831 0.7765181\n",
            " 0.77388248 0.74999482 0.71640139 0.5851654  0.6181313  0.5423683\n",
            " 0.57776065 0.50279251 0.49634993 0.46330038 0.42079615 0.50467508\n",
            " 0.39264125 0.44229929 0.55847473 0.54504569 0.54454369 0.51513375\n",
            " 0.5848307  0.55696863 0.55445854 0.6620997  0.65042781 0.67368794\n",
            " 0.64791772 0.61503546 0.63026342 0.67707661 0.69364326 0.6882465\n",
            " 0.79387957 0.7999875  0.83855924 0.84922714 0.84788844 0.84688434\n",
            " 0.86803608 0.84250843 0.86360165 0.86368529 0.90198096 0.9474387\n",
            " 0.95987202 0.87902192 0.90503482 0.85441462 0.87403524 0.85843081\n",
            " 0.83178201 0.85253205 0.85884916 0.85073323 0.844458   0.862447\n",
            " 0.88478678 0.87821873 0.92503192 0.9378752  0.94285362 0.97477365\n",
            " 0.97636329 0.91228843 0.89956975 0.87879109 0.86163199 0.85233837\n",
            " 0.84838939 0.8483786  0.84869236 0.84621406 0.83970827 0.82954794\n",
            " 0.81707048 0.80387872 0.79127675 0.77995747]\n",
            "15 day output [[0.7684354]]\n",
            "16 day input [0.8609409  0.83408293 0.81220327 0.84642422 0.86491522 0.87269654\n",
            " 0.85249028 0.8541218  0.86847118 0.88315526 0.88637653 0.89763007\n",
            " 0.88980697 0.88072882 0.91118463 0.8962495  0.8619449  0.83805724\n",
            " 0.8176418  0.81283079 0.76463703 0.75417831 0.7765181  0.77388248\n",
            " 0.74999482 0.71640139 0.5851654  0.6181313  0.5423683  0.57776065\n",
            " 0.50279251 0.49634993 0.46330038 0.42079615 0.50467508 0.39264125\n",
            " 0.44229929 0.55847473 0.54504569 0.54454369 0.51513375 0.5848307\n",
            " 0.55696863 0.55445854 0.6620997  0.65042781 0.67368794 0.64791772\n",
            " 0.61503546 0.63026342 0.67707661 0.69364326 0.6882465  0.79387957\n",
            " 0.7999875  0.83855924 0.84922714 0.84788844 0.84688434 0.86803608\n",
            " 0.84250843 0.86360165 0.86368529 0.90198096 0.9474387  0.95987202\n",
            " 0.87902192 0.90503482 0.85441462 0.87403524 0.85843081 0.83178201\n",
            " 0.85253205 0.85884916 0.85073323 0.844458   0.862447   0.88478678\n",
            " 0.87821873 0.92503192 0.9378752  0.94285362 0.97477365 0.97636329\n",
            " 0.91228843 0.89956975 0.87879109 0.86163199 0.85233837 0.84838939\n",
            " 0.8483786  0.84869236 0.84621406 0.83970827 0.82954794 0.81707048\n",
            " 0.80387872 0.79127675 0.77995747 0.76843542]\n",
            "16 day output [[0.7581341]]\n",
            "17 day input [0.83408293 0.81220327 0.84642422 0.86491522 0.87269654 0.85249028\n",
            " 0.8541218  0.86847118 0.88315526 0.88637653 0.89763007 0.88980697\n",
            " 0.88072882 0.91118463 0.8962495  0.8619449  0.83805724 0.8176418\n",
            " 0.81283079 0.76463703 0.75417831 0.7765181  0.77388248 0.74999482\n",
            " 0.71640139 0.5851654  0.6181313  0.5423683  0.57776065 0.50279251\n",
            " 0.49634993 0.46330038 0.42079615 0.50467508 0.39264125 0.44229929\n",
            " 0.55847473 0.54504569 0.54454369 0.51513375 0.5848307  0.55696863\n",
            " 0.55445854 0.6620997  0.65042781 0.67368794 0.64791772 0.61503546\n",
            " 0.63026342 0.67707661 0.69364326 0.6882465  0.79387957 0.7999875\n",
            " 0.83855924 0.84922714 0.84788844 0.84688434 0.86803608 0.84250843\n",
            " 0.86360165 0.86368529 0.90198096 0.9474387  0.95987202 0.87902192\n",
            " 0.90503482 0.85441462 0.87403524 0.85843081 0.83178201 0.85253205\n",
            " 0.85884916 0.85073323 0.844458   0.862447   0.88478678 0.87821873\n",
            " 0.92503192 0.9378752  0.94285362 0.97477365 0.97636329 0.91228843\n",
            " 0.89956975 0.87879109 0.86163199 0.85233837 0.84838939 0.8483786\n",
            " 0.84869236 0.84621406 0.83970827 0.82954794 0.81707048 0.80387872\n",
            " 0.79127675 0.77995747 0.76843542 0.75813413]\n",
            "17 day output [[0.748875]]\n",
            "18 day input [0.81220327 0.84642422 0.86491522 0.87269654 0.85249028 0.8541218\n",
            " 0.86847118 0.88315526 0.88637653 0.89763007 0.88980697 0.88072882\n",
            " 0.91118463 0.8962495  0.8619449  0.83805724 0.8176418  0.81283079\n",
            " 0.76463703 0.75417831 0.7765181  0.77388248 0.74999482 0.71640139\n",
            " 0.5851654  0.6181313  0.5423683  0.57776065 0.50279251 0.49634993\n",
            " 0.46330038 0.42079615 0.50467508 0.39264125 0.44229929 0.55847473\n",
            " 0.54504569 0.54454369 0.51513375 0.5848307  0.55696863 0.55445854\n",
            " 0.6620997  0.65042781 0.67368794 0.64791772 0.61503546 0.63026342\n",
            " 0.67707661 0.69364326 0.6882465  0.79387957 0.7999875  0.83855924\n",
            " 0.84922714 0.84788844 0.84688434 0.86803608 0.84250843 0.86360165\n",
            " 0.86368529 0.90198096 0.9474387  0.95987202 0.87902192 0.90503482\n",
            " 0.85441462 0.87403524 0.85843081 0.83178201 0.85253205 0.85884916\n",
            " 0.85073323 0.844458   0.862447   0.88478678 0.87821873 0.92503192\n",
            " 0.9378752  0.94285362 0.97477365 0.97636329 0.91228843 0.89956975\n",
            " 0.87879109 0.86163199 0.85233837 0.84838939 0.8483786  0.84869236\n",
            " 0.84621406 0.83970827 0.82954794 0.81707048 0.80387872 0.79127675\n",
            " 0.77995747 0.76843542 0.75813413 0.74887502]\n",
            "18 day output [[0.739893]]\n",
            "19 day input [0.84642422 0.86491522 0.87269654 0.85249028 0.8541218  0.86847118\n",
            " 0.88315526 0.88637653 0.89763007 0.88980697 0.88072882 0.91118463\n",
            " 0.8962495  0.8619449  0.83805724 0.8176418  0.81283079 0.76463703\n",
            " 0.75417831 0.7765181  0.77388248 0.74999482 0.71640139 0.5851654\n",
            " 0.6181313  0.5423683  0.57776065 0.50279251 0.49634993 0.46330038\n",
            " 0.42079615 0.50467508 0.39264125 0.44229929 0.55847473 0.54504569\n",
            " 0.54454369 0.51513375 0.5848307  0.55696863 0.55445854 0.6620997\n",
            " 0.65042781 0.67368794 0.64791772 0.61503546 0.63026342 0.67707661\n",
            " 0.69364326 0.6882465  0.79387957 0.7999875  0.83855924 0.84922714\n",
            " 0.84788844 0.84688434 0.86803608 0.84250843 0.86360165 0.86368529\n",
            " 0.90198096 0.9474387  0.95987202 0.87902192 0.90503482 0.85441462\n",
            " 0.87403524 0.85843081 0.83178201 0.85253205 0.85884916 0.85073323\n",
            " 0.844458   0.862447   0.88478678 0.87821873 0.92503192 0.9378752\n",
            " 0.94285362 0.97477365 0.97636329 0.91228843 0.89956975 0.87879109\n",
            " 0.86163199 0.85233837 0.84838939 0.8483786  0.84869236 0.84621406\n",
            " 0.83970827 0.82954794 0.81707048 0.80387872 0.79127675 0.77995747\n",
            " 0.76843542 0.75813413 0.74887502 0.73989302]\n",
            "19 day output [[0.73069966]]\n",
            "20 day input [0.86491522 0.87269654 0.85249028 0.8541218  0.86847118 0.88315526\n",
            " 0.88637653 0.89763007 0.88980697 0.88072882 0.91118463 0.8962495\n",
            " 0.8619449  0.83805724 0.8176418  0.81283079 0.76463703 0.75417831\n",
            " 0.7765181  0.77388248 0.74999482 0.71640139 0.5851654  0.6181313\n",
            " 0.5423683  0.57776065 0.50279251 0.49634993 0.46330038 0.42079615\n",
            " 0.50467508 0.39264125 0.44229929 0.55847473 0.54504569 0.54454369\n",
            " 0.51513375 0.5848307  0.55696863 0.55445854 0.6620997  0.65042781\n",
            " 0.67368794 0.64791772 0.61503546 0.63026342 0.67707661 0.69364326\n",
            " 0.6882465  0.79387957 0.7999875  0.83855924 0.84922714 0.84788844\n",
            " 0.84688434 0.86803608 0.84250843 0.86360165 0.86368529 0.90198096\n",
            " 0.9474387  0.95987202 0.87902192 0.90503482 0.85441462 0.87403524\n",
            " 0.85843081 0.83178201 0.85253205 0.85884916 0.85073323 0.844458\n",
            " 0.862447   0.88478678 0.87821873 0.92503192 0.9378752  0.94285362\n",
            " 0.97477365 0.97636329 0.91228843 0.89956975 0.87879109 0.86163199\n",
            " 0.85233837 0.84838939 0.8483786  0.84869236 0.84621406 0.83970827\n",
            " 0.82954794 0.81707048 0.80387872 0.79127675 0.77995747 0.76843542\n",
            " 0.75813413 0.74887502 0.73989302 0.73069966]\n",
            "20 day output [[0.7210257]]\n",
            "21 day input [0.87269654 0.85249028 0.8541218  0.86847118 0.88315526 0.88637653\n",
            " 0.89763007 0.88980697 0.88072882 0.91118463 0.8962495  0.8619449\n",
            " 0.83805724 0.8176418  0.81283079 0.76463703 0.75417831 0.7765181\n",
            " 0.77388248 0.74999482 0.71640139 0.5851654  0.6181313  0.5423683\n",
            " 0.57776065 0.50279251 0.49634993 0.46330038 0.42079615 0.50467508\n",
            " 0.39264125 0.44229929 0.55847473 0.54504569 0.54454369 0.51513375\n",
            " 0.5848307  0.55696863 0.55445854 0.6620997  0.65042781 0.67368794\n",
            " 0.64791772 0.61503546 0.63026342 0.67707661 0.69364326 0.6882465\n",
            " 0.79387957 0.7999875  0.83855924 0.84922714 0.84788844 0.84688434\n",
            " 0.86803608 0.84250843 0.86360165 0.86368529 0.90198096 0.9474387\n",
            " 0.95987202 0.87902192 0.90503482 0.85441462 0.87403524 0.85843081\n",
            " 0.83178201 0.85253205 0.85884916 0.85073323 0.844458   0.862447\n",
            " 0.88478678 0.87821873 0.92503192 0.9378752  0.94285362 0.97477365\n",
            " 0.97636329 0.91228843 0.89956975 0.87879109 0.86163199 0.85233837\n",
            " 0.84838939 0.8483786  0.84869236 0.84621406 0.83970827 0.82954794\n",
            " 0.81707048 0.80387872 0.79127675 0.77995747 0.76843542 0.75813413\n",
            " 0.74887502 0.73989302 0.73069966 0.72102571]\n",
            "21 day output [[0.71085155]]\n",
            "22 day input [0.85249028 0.8541218  0.86847118 0.88315526 0.88637653 0.89763007\n",
            " 0.88980697 0.88072882 0.91118463 0.8962495  0.8619449  0.83805724\n",
            " 0.8176418  0.81283079 0.76463703 0.75417831 0.7765181  0.77388248\n",
            " 0.74999482 0.71640139 0.5851654  0.6181313  0.5423683  0.57776065\n",
            " 0.50279251 0.49634993 0.46330038 0.42079615 0.50467508 0.39264125\n",
            " 0.44229929 0.55847473 0.54504569 0.54454369 0.51513375 0.5848307\n",
            " 0.55696863 0.55445854 0.6620997  0.65042781 0.67368794 0.64791772\n",
            " 0.61503546 0.63026342 0.67707661 0.69364326 0.6882465  0.79387957\n",
            " 0.7999875  0.83855924 0.84922714 0.84788844 0.84688434 0.86803608\n",
            " 0.84250843 0.86360165 0.86368529 0.90198096 0.9474387  0.95987202\n",
            " 0.87902192 0.90503482 0.85441462 0.87403524 0.85843081 0.83178201\n",
            " 0.85253205 0.85884916 0.85073323 0.844458   0.862447   0.88478678\n",
            " 0.87821873 0.92503192 0.9378752  0.94285362 0.97477365 0.97636329\n",
            " 0.91228843 0.89956975 0.87879109 0.86163199 0.85233837 0.84838939\n",
            " 0.8483786  0.84869236 0.84621406 0.83970827 0.82954794 0.81707048\n",
            " 0.80387872 0.79127675 0.77995747 0.76843542 0.75813413 0.74887502\n",
            " 0.73989302 0.73069966 0.72102571 0.71085155]\n",
            "22 day output [[0.70034224]]\n",
            "23 day input [0.8541218  0.86847118 0.88315526 0.88637653 0.89763007 0.88980697\n",
            " 0.88072882 0.91118463 0.8962495  0.8619449  0.83805724 0.8176418\n",
            " 0.81283079 0.76463703 0.75417831 0.7765181  0.77388248 0.74999482\n",
            " 0.71640139 0.5851654  0.6181313  0.5423683  0.57776065 0.50279251\n",
            " 0.49634993 0.46330038 0.42079615 0.50467508 0.39264125 0.44229929\n",
            " 0.55847473 0.54504569 0.54454369 0.51513375 0.5848307  0.55696863\n",
            " 0.55445854 0.6620997  0.65042781 0.67368794 0.64791772 0.61503546\n",
            " 0.63026342 0.67707661 0.69364326 0.6882465  0.79387957 0.7999875\n",
            " 0.83855924 0.84922714 0.84788844 0.84688434 0.86803608 0.84250843\n",
            " 0.86360165 0.86368529 0.90198096 0.9474387  0.95987202 0.87902192\n",
            " 0.90503482 0.85441462 0.87403524 0.85843081 0.83178201 0.85253205\n",
            " 0.85884916 0.85073323 0.844458   0.862447   0.88478678 0.87821873\n",
            " 0.92503192 0.9378752  0.94285362 0.97477365 0.97636329 0.91228843\n",
            " 0.89956975 0.87879109 0.86163199 0.85233837 0.84838939 0.8483786\n",
            " 0.84869236 0.84621406 0.83970827 0.82954794 0.81707048 0.80387872\n",
            " 0.79127675 0.77995747 0.76843542 0.75813413 0.74887502 0.73989302\n",
            " 0.73069966 0.72102571 0.71085155 0.70034224]\n",
            "23 day output [[0.68973774]]\n",
            "24 day input [0.86847118 0.88315526 0.88637653 0.89763007 0.88980697 0.88072882\n",
            " 0.91118463 0.8962495  0.8619449  0.83805724 0.8176418  0.81283079\n",
            " 0.76463703 0.75417831 0.7765181  0.77388248 0.74999482 0.71640139\n",
            " 0.5851654  0.6181313  0.5423683  0.57776065 0.50279251 0.49634993\n",
            " 0.46330038 0.42079615 0.50467508 0.39264125 0.44229929 0.55847473\n",
            " 0.54504569 0.54454369 0.51513375 0.5848307  0.55696863 0.55445854\n",
            " 0.6620997  0.65042781 0.67368794 0.64791772 0.61503546 0.63026342\n",
            " 0.67707661 0.69364326 0.6882465  0.79387957 0.7999875  0.83855924\n",
            " 0.84922714 0.84788844 0.84688434 0.86803608 0.84250843 0.86360165\n",
            " 0.86368529 0.90198096 0.9474387  0.95987202 0.87902192 0.90503482\n",
            " 0.85441462 0.87403524 0.85843081 0.83178201 0.85253205 0.85884916\n",
            " 0.85073323 0.844458   0.862447   0.88478678 0.87821873 0.92503192\n",
            " 0.9378752  0.94285362 0.97477365 0.97636329 0.91228843 0.89956975\n",
            " 0.87879109 0.86163199 0.85233837 0.84838939 0.8483786  0.84869236\n",
            " 0.84621406 0.83970827 0.82954794 0.81707048 0.80387872 0.79127675\n",
            " 0.77995747 0.76843542 0.75813413 0.74887502 0.73989302 0.73069966\n",
            " 0.72102571 0.71085155 0.70034224 0.68973774]\n",
            "24 day output [[0.6793133]]\n",
            "25 day input [0.88315526 0.88637653 0.89763007 0.88980697 0.88072882 0.91118463\n",
            " 0.8962495  0.8619449  0.83805724 0.8176418  0.81283079 0.76463703\n",
            " 0.75417831 0.7765181  0.77388248 0.74999482 0.71640139 0.5851654\n",
            " 0.6181313  0.5423683  0.57776065 0.50279251 0.49634993 0.46330038\n",
            " 0.42079615 0.50467508 0.39264125 0.44229929 0.55847473 0.54504569\n",
            " 0.54454369 0.51513375 0.5848307  0.55696863 0.55445854 0.6620997\n",
            " 0.65042781 0.67368794 0.64791772 0.61503546 0.63026342 0.67707661\n",
            " 0.69364326 0.6882465  0.79387957 0.7999875  0.83855924 0.84922714\n",
            " 0.84788844 0.84688434 0.86803608 0.84250843 0.86360165 0.86368529\n",
            " 0.90198096 0.9474387  0.95987202 0.87902192 0.90503482 0.85441462\n",
            " 0.87403524 0.85843081 0.83178201 0.85253205 0.85884916 0.85073323\n",
            " 0.844458   0.862447   0.88478678 0.87821873 0.92503192 0.9378752\n",
            " 0.94285362 0.97477365 0.97636329 0.91228843 0.89956975 0.87879109\n",
            " 0.86163199 0.85233837 0.84838939 0.8483786  0.84869236 0.84621406\n",
            " 0.83970827 0.82954794 0.81707048 0.80387872 0.79127675 0.77995747\n",
            " 0.76843542 0.75813413 0.74887502 0.73989302 0.73069966 0.72102571\n",
            " 0.71085155 0.70034224 0.68973774 0.6793133 ]\n",
            "25 day output [[0.66899234]]\n",
            "26 day input [0.88637653 0.89763007 0.88980697 0.88072882 0.91118463 0.8962495\n",
            " 0.8619449  0.83805724 0.8176418  0.81283079 0.76463703 0.75417831\n",
            " 0.7765181  0.77388248 0.74999482 0.71640139 0.5851654  0.6181313\n",
            " 0.5423683  0.57776065 0.50279251 0.49634993 0.46330038 0.42079615\n",
            " 0.50467508 0.39264125 0.44229929 0.55847473 0.54504569 0.54454369\n",
            " 0.51513375 0.5848307  0.55696863 0.55445854 0.6620997  0.65042781\n",
            " 0.67368794 0.64791772 0.61503546 0.63026342 0.67707661 0.69364326\n",
            " 0.6882465  0.79387957 0.7999875  0.83855924 0.84922714 0.84788844\n",
            " 0.84688434 0.86803608 0.84250843 0.86360165 0.86368529 0.90198096\n",
            " 0.9474387  0.95987202 0.87902192 0.90503482 0.85441462 0.87403524\n",
            " 0.85843081 0.83178201 0.85253205 0.85884916 0.85073323 0.844458\n",
            " 0.862447   0.88478678 0.87821873 0.92503192 0.9378752  0.94285362\n",
            " 0.97477365 0.97636329 0.91228843 0.89956975 0.87879109 0.86163199\n",
            " 0.85233837 0.84838939 0.8483786  0.84869236 0.84621406 0.83970827\n",
            " 0.82954794 0.81707048 0.80387872 0.79127675 0.77995747 0.76843542\n",
            " 0.75813413 0.74887502 0.73989302 0.73069966 0.72102571 0.71085155\n",
            " 0.70034224 0.68973774 0.6793133  0.66899234]\n",
            "26 day output [[0.6582599]]\n",
            "27 day input [0.89763007 0.88980697 0.88072882 0.91118463 0.8962495  0.8619449\n",
            " 0.83805724 0.8176418  0.81283079 0.76463703 0.75417831 0.7765181\n",
            " 0.77388248 0.74999482 0.71640139 0.5851654  0.6181313  0.5423683\n",
            " 0.57776065 0.50279251 0.49634993 0.46330038 0.42079615 0.50467508\n",
            " 0.39264125 0.44229929 0.55847473 0.54504569 0.54454369 0.51513375\n",
            " 0.5848307  0.55696863 0.55445854 0.6620997  0.65042781 0.67368794\n",
            " 0.64791772 0.61503546 0.63026342 0.67707661 0.69364326 0.6882465\n",
            " 0.79387957 0.7999875  0.83855924 0.84922714 0.84788844 0.84688434\n",
            " 0.86803608 0.84250843 0.86360165 0.86368529 0.90198096 0.9474387\n",
            " 0.95987202 0.87902192 0.90503482 0.85441462 0.87403524 0.85843081\n",
            " 0.83178201 0.85253205 0.85884916 0.85073323 0.844458   0.862447\n",
            " 0.88478678 0.87821873 0.92503192 0.9378752  0.94285362 0.97477365\n",
            " 0.97636329 0.91228843 0.89956975 0.87879109 0.86163199 0.85233837\n",
            " 0.84838939 0.8483786  0.84869236 0.84621406 0.83970827 0.82954794\n",
            " 0.81707048 0.80387872 0.79127675 0.77995747 0.76843542 0.75813413\n",
            " 0.74887502 0.73989302 0.73069966 0.72102571 0.71085155 0.70034224\n",
            " 0.68973774 0.6793133  0.66899234 0.65825993]\n",
            "27 day output [[0.6477289]]\n",
            "28 day input [0.88980697 0.88072882 0.91118463 0.8962495  0.8619449  0.83805724\n",
            " 0.8176418  0.81283079 0.76463703 0.75417831 0.7765181  0.77388248\n",
            " 0.74999482 0.71640139 0.5851654  0.6181313  0.5423683  0.57776065\n",
            " 0.50279251 0.49634993 0.46330038 0.42079615 0.50467508 0.39264125\n",
            " 0.44229929 0.55847473 0.54504569 0.54454369 0.51513375 0.5848307\n",
            " 0.55696863 0.55445854 0.6620997  0.65042781 0.67368794 0.64791772\n",
            " 0.61503546 0.63026342 0.67707661 0.69364326 0.6882465  0.79387957\n",
            " 0.7999875  0.83855924 0.84922714 0.84788844 0.84688434 0.86803608\n",
            " 0.84250843 0.86360165 0.86368529 0.90198096 0.9474387  0.95987202\n",
            " 0.87902192 0.90503482 0.85441462 0.87403524 0.85843081 0.83178201\n",
            " 0.85253205 0.85884916 0.85073323 0.844458   0.862447   0.88478678\n",
            " 0.87821873 0.92503192 0.9378752  0.94285362 0.97477365 0.97636329\n",
            " 0.91228843 0.89956975 0.87879109 0.86163199 0.85233837 0.84838939\n",
            " 0.8483786  0.84869236 0.84621406 0.83970827 0.82954794 0.81707048\n",
            " 0.80387872 0.79127675 0.77995747 0.76843542 0.75813413 0.74887502\n",
            " 0.73989302 0.73069966 0.72102571 0.71085155 0.70034224 0.68973774\n",
            " 0.6793133  0.66899234 0.65825993 0.64772892]\n",
            "28 day output [[0.6375451]]\n",
            "29 day input [0.88072882 0.91118463 0.8962495  0.8619449  0.83805724 0.8176418\n",
            " 0.81283079 0.76463703 0.75417831 0.7765181  0.77388248 0.74999482\n",
            " 0.71640139 0.5851654  0.6181313  0.5423683  0.57776065 0.50279251\n",
            " 0.49634993 0.46330038 0.42079615 0.50467508 0.39264125 0.44229929\n",
            " 0.55847473 0.54504569 0.54454369 0.51513375 0.5848307  0.55696863\n",
            " 0.55445854 0.6620997  0.65042781 0.67368794 0.64791772 0.61503546\n",
            " 0.63026342 0.67707661 0.69364326 0.6882465  0.79387957 0.7999875\n",
            " 0.83855924 0.84922714 0.84788844 0.84688434 0.86803608 0.84250843\n",
            " 0.86360165 0.86368529 0.90198096 0.9474387  0.95987202 0.87902192\n",
            " 0.90503482 0.85441462 0.87403524 0.85843081 0.83178201 0.85253205\n",
            " 0.85884916 0.85073323 0.844458   0.862447   0.88478678 0.87821873\n",
            " 0.92503192 0.9378752  0.94285362 0.97477365 0.97636329 0.91228843\n",
            " 0.89956975 0.87879109 0.86163199 0.85233837 0.84838939 0.8483786\n",
            " 0.84869236 0.84621406 0.83970827 0.82954794 0.81707048 0.80387872\n",
            " 0.79127675 0.77995747 0.76843542 0.75813413 0.74887502 0.73989302\n",
            " 0.73069966 0.72102571 0.71085155 0.70034224 0.68973774 0.6793133\n",
            " 0.66899234 0.65825993 0.64772892 0.63754511]\n",
            "29 day output [[0.6276398]]\n",
            "[[0.9122884273529053], [0.8995697498321533], [0.878791093826294], [0.8616319894790649], [0.8523383736610413], [0.8483893871307373], [0.848378598690033], [0.8486923575401306], [0.8462140560150146], [0.8397082686424255], [0.8295479416847229], [0.817070484161377], [0.8038787245750427], [0.791276752948761], [0.7799574732780457], [0.7684354186058044], [0.758134126663208], [0.7488750219345093], [0.7398930191993713], [0.7306996583938599], [0.7210257053375244], [0.7108515501022339], [0.7003422379493713], [0.6897377371788025], [0.6793133020401001], [0.6689923405647278], [0.658259928226471], [0.6477289199829102], [0.637545108795166], [0.6276397705078125]]\n"
          ]
        }
      ],
      "source": [
        "lst_output=[]\n",
        "n_steps=100\n",
        "nextNumberOfDays = 30\n",
        "i=0\n",
        "\n",
        "while(i<nextNumberOfDays):\n",
        "    \n",
        "    if(len(temp_input)>100):\n",
        "        x_input=np.array(temp_input[1:])\n",
        "        print(\"{} day input {}\".format(i,x_input))\n",
        "        x_input=x_input.reshape(1,-1)\n",
        "        x_input = x_input.reshape((1, n_steps, 1))\n",
        "        yhat = model.predict(x_input, verbose=0)\n",
        "        print(\"{} day output {}\".format(i,yhat))\n",
        "        temp_input.extend(yhat[0].tolist())\n",
        "        temp_input=temp_input[1:]\n",
        "        lst_output.extend(yhat.tolist())\n",
        "        i=i+1\n",
        "    else:\n",
        "        x_input = x_input.reshape((1, n_steps,1))\n",
        "        yhat = model.predict(x_input, verbose=0)\n",
        "        print(yhat[0])\n",
        "        temp_input.extend(yhat[0].tolist())\n",
        "        print(len(temp_input))\n",
        "        lst_output.extend(yhat.tolist())\n",
        "        i=i+1\n",
        "    \n",
        "\n",
        "print(lst_output)"
      ]
    },
    {
      "cell_type": "code",
      "execution_count": null,
      "metadata": {
        "id": "YGzjt9cNm-Ih"
      },
      "outputs": [],
      "source": [
        "day_new = np.arange(1,101)\n",
        "day_pred = np.arange(101,131)"
      ]
    },
    {
      "cell_type": "code",
      "execution_count": null,
      "metadata": {
        "id": "AFaHJ5WPm-Ii"
      },
      "outputs": [],
      "source": [
        "df3 = df_close.tolist()\n",
        "df3.extend(lst_output)"
      ]
    },
    {
      "cell_type": "code",
      "execution_count": null,
      "metadata": {
        "id": "Ykplqf77m-Ii",
        "outputId": "822569de-cc9b-478f-8589-aeee23f35a7c",
        "colab": {
          "base_uri": "https://localhost:8080/"
        }
      },
      "outputs": [
        {
          "output_type": "execute_result",
          "data": {
            "text/plain": [
              "1228"
            ]
          },
          "metadata": {},
          "execution_count": 34
        }
      ],
      "source": [
        "len(df_close)"
      ]
    },
    {
      "cell_type": "code",
      "execution_count": null,
      "metadata": {
        "id": "vQrTSGBfm-Ii",
        "outputId": "d1bb6900-fab1-4d8b-9b65-23cba1ce22b9",
        "colab": {
          "base_uri": "https://localhost:8080/",
          "height": 282
        }
      },
      "outputs": [
        {
          "output_type": "execute_result",
          "data": {
            "text/plain": [
              "[<matplotlib.lines.Line2D at 0x7f3d7b929790>]"
            ]
          },
          "metadata": {},
          "execution_count": 35
        },
        {
          "output_type": "display_data",
          "data": {
            "text/plain": [
              "<Figure size 432x288 with 1 Axes>"
            ],
            "image/png": "[encoded data removed]"
          },
          "metadata": {
            "needs_background": "light"
          }
        }
      ],
      "source": [
        "plt.plot(day_new, scaler.inverse_transform(df_close[1128:]))\n",
        "plt.plot(day_pred, scaler.inverse_transform(lst_output))"
      ]
    },
    {
      "cell_type": "code",
      "execution_count": null,
      "metadata": {
        "id": "_p7i031sm-Ii"
      },
      "outputs": [],
      "source": []
    }
  ],
  "metadata": {
    "kernelspec": {
      "display_name": "Python 3",
      "language": "python",
      "name": "python3"
    },
    "language_info": {
      "codemirror_mode": {
        "name": "ipython",
        "version": 3
      },
      "file_extension": ".py",
      "mimetype": "text/x-python",
      "name": "python",
      "nbconvert_exporter": "python",
      "pygments_lexer": "ipython3",
      "version": "3.6.5"
    },
    "colab": {
      "name": "Stock Market Prediction Task 2.ipynb",
      "provenance": [],
      "collapsed_sections": []
    }
  },
  "nbformat": 4,
  "nbformat_minor": 0
}